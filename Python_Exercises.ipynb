{
  "nbformat": 4,
  "nbformat_minor": 0,
  "metadata": {
    "colab": {
      "provenance": [],
      "include_colab_link": true
    },
    "kernelspec": {
      "name": "python3",
      "display_name": "Python 3"
    },
    "language_info": {
      "name": "python"
    }
  },
  "cells": [
    {
      "cell_type": "markdown",
      "metadata": {
        "id": "view-in-github",
        "colab_type": "text"
      },
      "source": [
        "<a href=\"https://colab.research.google.com/github/shady-san13saas/puddle/blob/main/Python_Exercises.ipynb\" target=\"_parent\"><img src=\"https://colab.research.google.com/assets/colab-badge.svg\" alt=\"Open In Colab\"/></a>"
      ]
    },
    {
      "cell_type": "code",
      "execution_count": null,
      "metadata": {
        "colab": {
          "base_uri": "https://localhost:8080/"
        },
        "id": "zwZqIOhGO4U9",
        "outputId": "b87311a9-3136-4026-c249-cb3d9a1e4d46"
      },
      "outputs": [
        {
          "output_type": "stream",
          "name": "stdout",
          "text": [
            "cuda\n"
          ]
        }
      ],
      "source": [
        "import torch\n",
        "\n",
        "device = 'cuda' if torch.cuda.is_available else 'cpu'\n",
        "print(device)"
      ]
    },
    {
      "cell_type": "code",
      "source": [
        "import torch.nn as nn\n",
        "sample = torch.tensor([10.,10.,10.])\n",
        "linear = nn.Linear(3, 3, bias=False)\n",
        "print(linear(sample))"
      ],
      "metadata": {
        "colab": {
          "base_uri": "https://localhost:8080/"
        },
        "id": "9GLmWlfmxAOn",
        "outputId": "88ff5ba1-0c1d-4d54-a5fb-78d541510feb"
      },
      "execution_count": null,
      "outputs": [
        {
          "output_type": "stream",
          "name": "stdout",
          "text": [
            "tensor([-1.8258,  4.2564, -3.5986], grad_fn=<SqueezeBackward4>)\n"
          ]
        }
      ]
    },
    {
      "cell_type": "code",
      "source": [
        "# Initialize an embedding layer\n",
        "vocab_size = 80\n",
        "embedding_dim = 6\n",
        "embedding = nn.Embedding(vocab_size, embedding_dim)\n",
        "\n",
        "# Create some input indices\n",
        "input_indices = torch.LongTensor([1, 5, 3, 2])\n",
        "\n",
        "# Apply the embedding layer\n",
        "embedded_output = embedding(input_indices)\n",
        "\n",
        "# The output will be a tensor of shape (4, 100), where 4 is the number of inputs\n",
        "# and 100 is the dimensionality of the embedding vectors\n",
        "print(embedded_output.shape)\n",
        "print(embedded_output)"
      ],
      "metadata": {
        "colab": {
          "base_uri": "https://localhost:8080/"
        },
        "id": "C36YGSZNzqWV",
        "outputId": "70f7c556-a030-46b7-fa61-c9aa469b16b8"
      },
      "execution_count": null,
      "outputs": [
        {
          "output_type": "stream",
          "name": "stdout",
          "text": [
            "torch.Size([4, 6])\n",
            "tensor([[-0.1573, -1.0908,  1.3941,  0.1854,  1.1992,  0.0304],\n",
            "        [ 0.1014,  2.0758, -0.3953, -1.4565, -0.7624, -0.2300],\n",
            "        [ 1.2965, -0.6943,  0.5095,  0.0294, -0.1197, -1.4611],\n",
            "        [-1.3950,  0.7561, -0.6082,  0.4190,  0.3160,  1.2863]],\n",
            "       grad_fn=<EmbeddingBackward0>)\n"
          ]
        }
      ]
    },
    {
      "cell_type": "code",
      "source": [
        "my_list = [1, 2, 3, 4, 5\n",
        "           6,7,8,9,10]\n",
        "sublist = my_list[:, -block_size:]\n",
        "print(sublist)"
      ],
      "metadata": {
        "id": "mtl8O4Lx1ZRs",
        "colab": {
          "base_uri": "https://localhost:8080/"
        },
        "outputId": "4afba9de-f08e-4660-da1a-0cc1fef5d1f8"
      },
      "execution_count": null,
      "outputs": [
        {
          "output_type": "stream",
          "name": "stdout",
          "text": [
            "[1, 2, 3, 4]\n"
          ]
        }
      ]
    },
    {
      "cell_type": "code",
      "source": [
        "index = [[1, 2, 3, 4, 5, 6, 7, 8, 9, 10],\n",
        "         [11, 12, 13, 14, 15, 16, 17, 18, 19, 20]]\n",
        "\n",
        "index_cond = index[:, -5:]\n",
        "print(index_cond)"
      ],
      "metadata": {
        "colab": {
          "base_uri": "https://localhost:8080/",
          "height": 199
        },
        "id": "BolKVi7XBWHu",
        "outputId": "91ab2338-ad95-4281-bbb9-63ceee970a02"
      },
      "execution_count": null,
      "outputs": [
        {
          "output_type": "error",
          "ename": "TypeError",
          "evalue": "list indices must be integers or slices, not tuple",
          "traceback": [
            "\u001b[0;31m---------------------------------------------------------------------------\u001b[0m",
            "\u001b[0;31mTypeError\u001b[0m                                 Traceback (most recent call last)",
            "\u001b[0;32m<ipython-input-1-709c3b82084e>\u001b[0m in \u001b[0;36m<cell line: 4>\u001b[0;34m()\u001b[0m\n\u001b[1;32m      2\u001b[0m          [11, 12, 13, 14, 15, 16, 17, 18, 19, 20]]\n\u001b[1;32m      3\u001b[0m \u001b[0;34m\u001b[0m\u001b[0m\n\u001b[0;32m----> 4\u001b[0;31m \u001b[0mindex_cond\u001b[0m \u001b[0;34m=\u001b[0m \u001b[0mindex\u001b[0m\u001b[0;34m[\u001b[0m\u001b[0;34m:\u001b[0m\u001b[0;34m,\u001b[0m \u001b[0;34m-\u001b[0m\u001b[0;36m5\u001b[0m\u001b[0;34m:\u001b[0m\u001b[0;34m]\u001b[0m\u001b[0;34m\u001b[0m\u001b[0;34m\u001b[0m\u001b[0m\n\u001b[0m\u001b[1;32m      5\u001b[0m \u001b[0mprint\u001b[0m\u001b[0;34m(\u001b[0m\u001b[0mindex_cond\u001b[0m\u001b[0;34m)\u001b[0m\u001b[0;34m\u001b[0m\u001b[0;34m\u001b[0m\u001b[0m\n",
            "\u001b[0;31mTypeError\u001b[0m: list indices must be integers or slices, not tuple"
          ]
        }
      ]
    },
    {
      "cell_type": "code",
      "source": [
        "def capitalize_next_to_empty(sentence):\n",
        "    # Convert the sentence to a list with indexing for each character\n",
        "    characters = list(sentence)\n",
        "\n",
        "    # Initialize an empty string to store the modified sentence\n",
        "    modified_sentence = ''\n",
        "\n",
        "    # Iterate through the characters\n",
        "    for i, char in enumerate(characters):\n",
        "        # Capitalize the character if it's next to an empty space or at the beginning of the sentence\n",
        "        if i == 0 or characters[i - 1] == ' ':\n",
        "            modified_sentence += char.upper()\n",
        "        else:\n",
        "            modified_sentence += char\n",
        "\n",
        "    return modified_sentence\n",
        "\n",
        "# Example usage:\n",
        "sentence = \"this is a sample sentence\"\n",
        "modified_sentence = capitalize_next_to_empty(sentence)\n",
        "print(modified_sentence)  # Output: \"This Is A Sample Sentence\"\n"
      ],
      "metadata": {
        "colab": {
          "base_uri": "https://localhost:8080/"
        },
        "id": "Z2GOg2cWEmgE",
        "outputId": "90d3369f-e009-4d99-ad27-5a7cbf118faa"
      },
      "execution_count": null,
      "outputs": [
        {
          "output_type": "stream",
          "name": "stdout",
          "text": [
            "This Is A Sample Sentence\n"
          ]
        }
      ]
    },
    {
      "cell_type": "code",
      "source": [
        "def capitalize_next_to_empty(sentence):\n",
        "    # Convert the sentence to a list with indexing for each character\n",
        "    characters = list(sentence)\n",
        "\n",
        "    # Initialize an empty string to store the modified sentence\n",
        "    modified_sentence = ''\n",
        "\n",
        "    # Iterate through the characters\n",
        "    for i, char in enumerate(characters):\n",
        "        # Capitalize the character if it's next to an empty space or at the beginning of the sentence\n",
        "        if i == 0 or (i > 0 and characters[i - 1] == ' '):\n",
        "            modified_sentence += char.upper()\n",
        "        else:\n",
        "            modified_sentence += char\n",
        "\n",
        "    return modified_sentence\n",
        "\n",
        "# Example usage:\n",
        "sentence = \"this is a test sentence\"\n",
        "modified_sentence = capitalize_next_to_empty(sentence)\n",
        "print(modified_sentence)  # Output: \"This Is A Test Sentence\"\n"
      ],
      "metadata": {
        "id": "fndjx3LcFgEn"
      },
      "execution_count": null,
      "outputs": []
    },
    {
      "cell_type": "code",
      "source": [
        "def filter_list(input_list):\n",
        "    filtered_list = []\n",
        "    for item in input_list:\n",
        "        try:\n",
        "            # Attempt to add 0 to the item\n",
        "            item_with_zero = item + 0\n",
        "            filtered_list.append(item)\n",
        "        except TypeError:\n",
        "            # If adding 0 to the item raises TypeError, it's a string\n",
        "            pass\n",
        "    return filtered_list\n",
        "\n",
        "# Example usage:\n",
        "input_list = ['apple', 10, 'banana', 20, 'carrot', 30]\n",
        "filtered_result = filter_list(input_list)\n",
        "print(filtered_result)"
      ],
      "metadata": {
        "id": "6Lc4pjzR-HHv"
      },
      "execution_count": null,
      "outputs": []
    },
    {
      "cell_type": "code",
      "source": [
        "def filter_list(l):\n",
        "    filtered_list = []\n",
        "    for char in list(l):\n",
        "        try:\n",
        "            new_char = char + 0\n",
        "            filtered_list.append(char)\n",
        "        except TypeError:\n",
        "            pass\n",
        "\n",
        "    return filtered_list\n",
        "\n",
        "l = [1, 2, \"a\", \"b\"]\n",
        "result = filter_list(l)\n",
        "print(result)"
      ],
      "metadata": {
        "colab": {
          "base_uri": "https://localhost:8080/"
        },
        "id": "NLDJkyBObDZD",
        "outputId": "a6e06cf8-6ac9-4d20-e712-0344c6df2a92"
      },
      "execution_count": null,
      "outputs": [
        {
          "output_type": "stream",
          "name": "stdout",
          "text": [
            "[1, 2]\n"
          ]
        }
      ]
    },
    {
      "cell_type": "code",
      "source": [
        "def find_outlier(integers):\n",
        "    even_num =[]\n",
        "    odd_num =[]\n",
        "    outlier =[]\n",
        "\n",
        "    for int in integers:\n",
        "        if (int % 2 == 0) and (len(even_num) <= 2):\n",
        "            even_num.append(int)\n",
        "        if (int % 2 != 0) and (len(odd_num) <= 2):\n",
        "            odd_num.append(int)\n",
        "\n",
        "        else:\n",
        "            outlier.append(int)\n",
        "\n",
        "    return outlier\n",
        "\n",
        "print(find_outlier([1,3,5,8]))"
      ],
      "metadata": {
        "colab": {
          "base_uri": "https://localhost:8080/"
        },
        "id": "g6vX9Gsu72JZ",
        "outputId": "7df428c2-594c-40eb-dd00-a73cf19db772"
      },
      "execution_count": null,
      "outputs": [
        {
          "output_type": "stream",
          "name": "stdout",
          "text": [
            "[8]\n"
          ]
        }
      ]
    },
    {
      "cell_type": "code",
      "source": [
        "def find_outlier(integers):\n",
        "    even_num =[]\n",
        "    odd_num =[]\n",
        "    outlier =[]\n",
        "\n",
        "    for int in integers:\n",
        "        if (int % 2 == 0) and (len(even_num) <= 2):\n",
        "            even_num.append(int)\n",
        "        if (int % 2 != 0) and (len(odd_num) <= 2):\n",
        "            odd_num.append(int)\n",
        "\n",
        "        else:\n",
        "          if len(even_num) >= 3 or len(odd_num) >=3:\n",
        "            print(\"no outliers\")\n",
        "            break\n",
        "          else:\n",
        "            outlier.append(int)\n",
        "            break\n",
        "\n",
        "    return outlier\n",
        "\n",
        "print(find_outlier([2, 4, 6, 8, 10, 3]))"
      ],
      "metadata": {
        "colab": {
          "base_uri": "https://localhost:8080/"
        },
        "id": "-6RwWWsK9FNe",
        "outputId": "55dd33c3-0655-4864-a13c-9491ec92409c"
      },
      "execution_count": null,
      "outputs": [
        {
          "output_type": "stream",
          "name": "stdout",
          "text": [
            "[2]\n"
          ]
        }
      ]
    },
    {
      "cell_type": "code",
      "source": [
        "def find_outlier(integers):\n",
        "    even_num =[]\n",
        "    odd_num =[]\n",
        "    outlier =[]\n",
        "\n",
        "    for int in integers:\n",
        "        if (int % 2 == 0) and (len(even_num) <= 2):\n",
        "            even_num.append(int)\n",
        "        else:\n",
        "            odd_num.append(int)\n",
        "\n",
        "    outlier = even_num if len(even_num) < len(odd_num) else odd_num\n",
        "\n",
        "    return outlier[0]\n",
        "\n",
        "\n",
        "print(find_outlier([17,6,8,10,6,12,24,36]))\n",
        "\n",
        "\n",
        "# Test cases\n",
        "print(find_outlier([2, 4, 0, 100, 4, 11, 2602, 36]))  # Output: 11\n",
        "print(find_outlier([160, 3, 1719, 19, 11, 13, -21]))  # Output: 160"
      ],
      "metadata": {
        "colab": {
          "base_uri": "https://localhost:8080/"
        },
        "id": "9edjncpHa4si",
        "outputId": "5526f1a0-20af-4a04-ab3f-501488dbfd3d"
      },
      "execution_count": null,
      "outputs": [
        {
          "output_type": "stream",
          "name": "stdout",
          "text": [
            "17\n",
            "11\n",
            "160\n"
          ]
        }
      ]
    },
    {
      "cell_type": "code",
      "source": [
        "def find_outlier(integers):\n",
        "    even_num = []\n",
        "    odd_num = []\n",
        "\n",
        "    for num in integers:\n",
        "        if num % 2 == 0:\n",
        "            even_num.append(num)\n",
        "        else:\n",
        "            odd_num.append(num)\n",
        "\n",
        "    outlier = even_num if len(even_num) < len(odd_num) else odd_num\n",
        "\n",
        "    return outlier[0]\n",
        "\n",
        "print(find_outlier([17, 6, 8, 10, 6, 12, 24, 36]))\n"
      ],
      "metadata": {
        "id": "8FaXE-iXkqOw"
      },
      "execution_count": null,
      "outputs": []
    },
    {
      "cell_type": "code",
      "source": [
        "def find_outlier(integers):\n",
        "    # Initialize counters for even and odd numbers\n",
        "    even_count = 0\n",
        "    odd_count = 0\n",
        "    # Iterate through the first three elements to determine the majority parity\n",
        "    for num in integers[:3]:\n",
        "        if num % 2 == 0:\n",
        "            even_count += 1\n",
        "        else:\n",
        "            odd_count += 1\n",
        "\n",
        "    # Determine the majority parity\n",
        "    majority_parity = \"even\" if even_count > odd_count else \"odd\"\n",
        "\n",
        "    # Iterate through the array and return the outlier\n",
        "    for num in integers:\n",
        "        if majority_parity == \"even\" and num % 2 != 0:\n",
        "            return num\n",
        "        elif majority_parity == \"odd\" and num % 2 == 0:\n",
        "            return num\n",
        "\n",
        "# Test cases\n",
        "print(find_outlier([2, 4, 0, 100, 4, 11, 2602, 36]))  # Output: 11\n",
        "print(find_outlier([160, 3, 1719, 19, 11, 13, -21]))  # Output: 160\n",
        "find_outlier([2, 4, 6, 8, 10, 3]), 3"
      ],
      "metadata": {
        "colab": {
          "base_uri": "https://localhost:8080/"
        },
        "id": "BT3YC73xgWOJ",
        "outputId": "826f2bc6-5461-4fbc-d29f-9cac5afaf605"
      },
      "execution_count": null,
      "outputs": [
        {
          "output_type": "stream",
          "name": "stdout",
          "text": [
            "11\n",
            "160\n"
          ]
        }
      ]
    },
    {
      "cell_type": "code",
      "source": [
        "def count_bits(n):\n",
        "    binary = format(n, 'b')\n",
        "    string = str(binary)\n",
        "    print(string)\n",
        "    list = [char for char in string]\n",
        "    print(list)\n",
        "    int_list = [int(char) for char in list]\n",
        "    print(int_list)\n",
        "    summation = sum(int_list)\n",
        "    print(sum)\n",
        "    return sum\n",
        "\n",
        "print(count_bits(5))\n",
        "\n"
      ],
      "metadata": {
        "colab": {
          "base_uri": "https://localhost:8080/"
        },
        "id": "KVkMVs0IN7uY",
        "outputId": "a7eebd0e-5657-4314-f170-c0ce6019dac2"
      },
      "execution_count": null,
      "outputs": [
        {
          "output_type": "stream",
          "name": "stdout",
          "text": [
            "101\n",
            "['1', '0', '1']\n",
            "[1, 0, 1]\n",
            "<built-in function sum>\n",
            "<built-in function sum>\n"
          ]
        }
      ]
    },
    {
      "cell_type": "code",
      "source": [
        "def count_bits(n):\n",
        "    bin = format(n, 'b')\n",
        "    str_bin = str(bin)\n",
        "    print(str_bin)\n",
        "    list = [char for char in str_bin]\n",
        "    int_list = [int(char) for char in list]\n",
        "    sum_list = sum(int_list)\n",
        "\n",
        "    return sum_list\n",
        "\n",
        "print(count_bits(0))\n"
      ],
      "metadata": {
        "colab": {
          "base_uri": "https://localhost:8080/"
        },
        "id": "kFSPaAt_YYbN",
        "outputId": "a77e45c2-ae9e-4ee9-a7be-38d46750efd6"
      },
      "execution_count": null,
      "outputs": [
        {
          "output_type": "stream",
          "name": "stdout",
          "text": [
            "0\n",
            "0\n"
          ]
        }
      ]
    },
    {
      "cell_type": "code",
      "source": [
        "def countBits(n):\n",
        "    return bin(n).count(\"1\")"
      ],
      "metadata": {
        "id": "ahlbHtqSbLRi"
      },
      "execution_count": null,
      "outputs": []
    },
    {
      "cell_type": "code",
      "source": [
        "def duplicate_encode(word):\n",
        "    list = [char for char in word]\n",
        "    print(list)\n",
        "    list1 = []\n",
        "    list2 = []\n",
        "\n",
        "    list = [list[0] for char in list if list[0] == char]\n",
        "\n",
        "    for char in list:\n",
        "        if list[:] == char:\n",
        "            char = ')'\n",
        "            list1 = list.append(char)\n",
        "            return list1\n",
        "        else:\n",
        "            char = '('\n",
        "            list2 = list.append(char)\n",
        "            return list2\n",
        "\n",
        "    list = list1 + list2\n",
        "\n",
        "    return list\n",
        "\n",
        "\n",
        "\n",
        "print(duplicate_encode('tee'))"
      ],
      "metadata": {
        "colab": {
          "base_uri": "https://localhost:8080/"
        },
        "id": "Y7_NIyPsrEAG",
        "outputId": "98f9c8fd-e8bb-414b-8615-592cb8dbb3ca"
      },
      "execution_count": null,
      "outputs": [
        {
          "output_type": "stream",
          "name": "stdout",
          "text": [
            "['t', 'e', 'e']\n",
            "None\n"
          ]
        }
      ]
    },
    {
      "cell_type": "code",
      "source": [
        "def duplicate_encode(word):\n",
        "  new_word = ''\n",
        "  for char in word:\n",
        "    if word.count(char) > 1:\n",
        "      new_word += ')'\n",
        "    else:\n",
        "      new_word += '('\n",
        "  return new_word\n",
        "\n",
        "print(duplicate_encode('see'))\n",
        "\n"
      ],
      "metadata": {
        "colab": {
          "base_uri": "https://localhost:8080/"
        },
        "id": "z3QiwX4fEsYI",
        "outputId": "1245a9e6-67ce-445d-fd49-6bcb76ecf091"
      },
      "execution_count": null,
      "outputs": [
        {
          "output_type": "stream",
          "name": "stdout",
          "text": [
            "())\n"
          ]
        }
      ]
    },
    {
      "cell_type": "code",
      "source": [
        "def duplicate_encode(word):\n",
        "    return \"\".join([\"(\" if word.lower().count(c) == 1 else \")\" for c in word.lower()])"
      ],
      "metadata": {
        "id": "pkUyLU1eMxGh"
      },
      "execution_count": null,
      "outputs": []
    },
    {
      "cell_type": "code",
      "source": [
        "def xo(s):\n",
        "    s = s.lower()\n",
        "    return \"\".join(['True' if s.count('x') == s.count('o') else 'False'])\n",
        "\n",
        "s = 'xxoop'\n",
        "print(xo(s))\n"
      ],
      "metadata": {
        "colab": {
          "base_uri": "https://localhost:8080/"
        },
        "id": "JXnQYANg6YUX",
        "outputId": "96856fe7-4235-483b-def9-48c947a6450e"
      },
      "execution_count": null,
      "outputs": [
        {
          "output_type": "stream",
          "name": "stdout",
          "text": [
            "True\n"
          ]
        }
      ]
    },
    {
      "cell_type": "code",
      "source": [
        "def xo(s):\n",
        "  s = s.lower()\n",
        "  for char in s:\n",
        "    if s.count('x') == s.count('o'):\n",
        "      return True\n",
        "    else:\n",
        "      return False\n",
        "\n",
        "s = 'pnmnj'\n",
        "print(xo(s))\n",
        "\n"
      ],
      "metadata": {
        "colab": {
          "base_uri": "https://localhost:8080/"
        },
        "id": "v9aAIk937YRu",
        "outputId": "dd1e37bb-0c28-43c4-b3cf-b843bf781c5d"
      },
      "execution_count": null,
      "outputs": [
        {
          "output_type": "stream",
          "name": "stdout",
          "text": [
            "True\n"
          ]
        }
      ]
    },
    {
      "cell_type": "code",
      "source": [
        "def validate_pin(pin):\n",
        "    new_pin = ''\n",
        "    if len(pin) != 4:\n",
        "      return True\n",
        "\n",
        "\n",
        "\n",
        "print(validate_pin('0000'))"
      ],
      "metadata": {
        "colab": {
          "base_uri": "https://localhost:8080/"
        },
        "id": "OpAwy-GTAYmS",
        "outputId": "b0e6dcb5-36e7-4f25-c6a5-845d2dff604a"
      },
      "execution_count": null,
      "outputs": [
        {
          "output_type": "stream",
          "name": "stdout",
          "text": [
            "None\n"
          ]
        }
      ]
    },
    {
      "cell_type": "code",
      "source": [
        "def xo(s):\n",
        "    s = s.lower()\n",
        "    l = ([True if s.count('x') == s.count('o') else False])\n",
        "    if l == 'True':\n",
        "        return True\n",
        "    else:\n",
        "        return False\n",
        "\n",
        "s = 'ooxx'\n",
        "\n",
        "print(xo(s))"
      ],
      "metadata": {
        "colab": {
          "base_uri": "https://localhost:8080/"
        },
        "id": "ZGmzTvt4p6Nm",
        "outputId": "42275443-8d11-44cf-bf82-f344614850ba"
      },
      "execution_count": null,
      "outputs": [
        {
          "output_type": "stream",
          "name": "stdout",
          "text": [
            "False\n"
          ]
        }
      ]
    },
    {
      "cell_type": "code",
      "source": [
        "def to_jaden_case(string):\n",
        "    for char in string:\n",
        "        if char == string[0]:\n",
        "          string += char.upper()\n",
        "          for char in range [n- 1] == \"\":\n",
        "            string += char.upper\n",
        "        else:\n",
        "          string += char\n",
        "\n",
        "    return string\n",
        "\n",
        "print(to_jaden_case(\"How can mirrors be real if our eyes aren't real\"))\n",
        "\n"
      ],
      "metadata": {
        "colab": {
          "base_uri": "https://localhost:8080/",
          "height": 324
        },
        "id": "7gvQGLfsd82p",
        "outputId": "40abe95d-c8b2-42bf-9d3a-6b9b74d239dc"
      },
      "execution_count": null,
      "outputs": [
        {
          "output_type": "error",
          "ename": "NameError",
          "evalue": "name 'n' is not defined",
          "traceback": [
            "\u001b[0;31m---------------------------------------------------------------------------\u001b[0m",
            "\u001b[0;31mNameError\u001b[0m                                 Traceback (most recent call last)",
            "\u001b[0;32m<ipython-input-3-af510b8e23ab>\u001b[0m in \u001b[0;36m<cell line: 12>\u001b[0;34m()\u001b[0m\n\u001b[1;32m     10\u001b[0m     \u001b[0;32mreturn\u001b[0m \u001b[0mstring\u001b[0m\u001b[0;34m\u001b[0m\u001b[0;34m\u001b[0m\u001b[0m\n\u001b[1;32m     11\u001b[0m \u001b[0;34m\u001b[0m\u001b[0m\n\u001b[0;32m---> 12\u001b[0;31m \u001b[0mprint\u001b[0m\u001b[0;34m(\u001b[0m\u001b[0mto_jaden_case\u001b[0m\u001b[0;34m(\u001b[0m\u001b[0;34m\"How can mirrors be real if our eyes aren't real\"\u001b[0m\u001b[0;34m)\u001b[0m\u001b[0;34m)\u001b[0m\u001b[0;34m\u001b[0m\u001b[0;34m\u001b[0m\u001b[0m\n\u001b[0m\u001b[1;32m     13\u001b[0m \u001b[0;34m\u001b[0m\u001b[0m\n",
            "\u001b[0;32m<ipython-input-3-af510b8e23ab>\u001b[0m in \u001b[0;36mto_jaden_case\u001b[0;34m(string)\u001b[0m\n\u001b[1;32m      3\u001b[0m         \u001b[0;32mif\u001b[0m \u001b[0mchar\u001b[0m \u001b[0;34m==\u001b[0m \u001b[0mstring\u001b[0m\u001b[0;34m[\u001b[0m\u001b[0;36m0\u001b[0m\u001b[0;34m]\u001b[0m\u001b[0;34m:\u001b[0m\u001b[0;34m\u001b[0m\u001b[0;34m\u001b[0m\u001b[0m\n\u001b[1;32m      4\u001b[0m           \u001b[0mstring\u001b[0m \u001b[0;34m+=\u001b[0m \u001b[0mchar\u001b[0m\u001b[0;34m.\u001b[0m\u001b[0mupper\u001b[0m\u001b[0;34m(\u001b[0m\u001b[0;34m)\u001b[0m\u001b[0;34m\u001b[0m\u001b[0;34m\u001b[0m\u001b[0m\n\u001b[0;32m----> 5\u001b[0;31m           \u001b[0;32mfor\u001b[0m \u001b[0mchar\u001b[0m \u001b[0;32min\u001b[0m \u001b[0mrange\u001b[0m \u001b[0;34m[\u001b[0m\u001b[0mn\u001b[0m\u001b[0;34m-\u001b[0m \u001b[0;36m1\u001b[0m\u001b[0;34m]\u001b[0m \u001b[0;34m==\u001b[0m \u001b[0;34m\"\"\u001b[0m\u001b[0;34m:\u001b[0m\u001b[0;34m\u001b[0m\u001b[0;34m\u001b[0m\u001b[0m\n\u001b[0m\u001b[1;32m      6\u001b[0m             \u001b[0mstring\u001b[0m \u001b[0;34m+=\u001b[0m \u001b[0mchar\u001b[0m\u001b[0;34m.\u001b[0m\u001b[0mupper\u001b[0m\u001b[0;34m\u001b[0m\u001b[0;34m\u001b[0m\u001b[0m\n\u001b[1;32m      7\u001b[0m         \u001b[0;32melse\u001b[0m\u001b[0;34m:\u001b[0m\u001b[0;34m\u001b[0m\u001b[0;34m\u001b[0m\u001b[0m\n",
            "\u001b[0;31mNameError\u001b[0m: name 'n' is not defined"
          ]
        }
      ]
    },
    {
      "cell_type": "code",
      "source": [
        "def find_it(seq):\n",
        "    l = list(seq)\n",
        "    #l = ''.join[seq.count(char) % 2 != 0 or seq.count(char) == 1 for char in seq return char else pass]\n",
        "    #str = ''.join[l]\n",
        "    #m = ''.join([ str(char) for char in l])\n",
        "    #n = ''.join(char for char in m)\n",
        "    for i,ch in enumerate(l):\n",
        "      if ch % 2 != 0 or len(l) == 1:\n",
        "        return ch\n",
        "    # str1 = ''\n",
        "    # for char in m:\n",
        "    #     if m.count(char)\n",
        "    #       str1 = char\n",
        "    #       print(str1)\n",
        "    # return int(str1)\n",
        "\n",
        "seq = [-1]\n",
        "print(find_it(seq))"
      ],
      "metadata": {
        "colab": {
          "base_uri": "https://localhost:8080/"
        },
        "id": "6MLv_TvFbZPb",
        "outputId": "b40876bc-c4cf-4559-d27c-7339921c8630"
      },
      "execution_count": null,
      "outputs": [
        {
          "output_type": "stream",
          "name": "stdout",
          "text": [
            "-1\n"
          ]
        }
      ]
    },
    {
      "cell_type": "code",
      "source": [
        "print(int('-1'))"
      ],
      "metadata": {
        "colab": {
          "base_uri": "https://localhost:8080/"
        },
        "id": "T-M3QETrhsqa",
        "outputId": "f3645647-89cf-49bb-8ee9-0c07b8056e20"
      },
      "execution_count": null,
      "outputs": [
        {
          "output_type": "stream",
          "name": "stdout",
          "text": [
            "-1\n"
          ]
        }
      ]
    },
    {
      "cell_type": "code",
      "source": [
        "import operator\n",
        "\n",
        "def find_it(xs):\n",
        "    return reduce(operator.xor, xs)"
      ],
      "metadata": {
        "id": "Zi3hBt9GnGsK"
      },
      "execution_count": null,
      "outputs": []
    },
    {
      "cell_type": "code",
      "source": [
        "def find_it(seq):\n",
        "    return [x for x in seq if seq.count(x) % 2][0]"
      ],
      "metadata": {
        "id": "mMOv7KZInGAa"
      },
      "execution_count": null,
      "outputs": []
    },
    {
      "cell_type": "code",
      "source": [
        "def validate_pin(pin):\n",
        "    return len(pin) in (4, 6) and pin.isdigit()"
      ],
      "metadata": {
        "colab": {
          "base_uri": "https://localhost:8080/"
        },
        "id": "aAu9DKrt_o-D",
        "outputId": "be421725-0fea-4dda-a14f-0a4d19357500"
      },
      "execution_count": null,
      "outputs": [
        {
          "output_type": "stream",
          "name": "stdout",
          "text": [
            "0\n"
          ]
        }
      ]
    },
    {
      "cell_type": "code",
      "source": [
        "def count_smileys(arr):\n",
        "  count = 0\n",
        "  #print(len(arr))\n",
        "  for i in arr:\n",
        "    if len(arr) == 0:\n",
        "      break\n",
        "  #print(count)\n",
        "  for i in arr:\n",
        "    #print(count)\n",
        "    # for ch in i:\n",
        "    #   print(count)\n",
        "      if len(i) == 3:\n",
        "          if (i[0] == ':' or i[0] == ';') and (i[1] == '-' or i[1] == '~') and (i[2] == ')' or i[2] == 'D'):\n",
        "              count += 1\n",
        "\n",
        "          else:\n",
        "              count += 0\n",
        "      elif len(i) == 2:\n",
        "          if (i[0] == ':' or i[0] == ';') and (i[1] == ')' or i[1] == 'D'):\n",
        "               count += 1\n",
        "          else:\n",
        "              count += 0\n",
        "  return count\n",
        "\n",
        "print(count_smileys([':D']))"
      ],
      "metadata": {
        "colab": {
          "base_uri": "https://localhost:8080/"
        },
        "id": "4dEe0GQS5Y0U",
        "outputId": "eb185e52-beca-4bfc-9e75-d6974f81f4a8"
      },
      "execution_count": null,
      "outputs": [
        {
          "output_type": "stream",
          "name": "stdout",
          "text": [
            "1\n"
          ]
        }
      ]
    },
    {
      "cell_type": "code",
      "source": [
        "from re import findall\n",
        "def count_smileys(arr):\n",
        "    return len(list(findall(r\"[:;][-~]?[)D]\", \" \".join(arr))))"
      ],
      "metadata": {
        "id": "vawk4mZkCfut"
      },
      "execution_count": null,
      "outputs": []
    },
    {
      "cell_type": "code",
      "source": [
        "def count_smileys(arr):\n",
        "    eyes = [\":\", \";\"]\n",
        "    noses = [\"\", \"-\", \"~\"]\n",
        "    mouths = [\")\", \"D\"]\n",
        "    count = 0\n",
        "    for eye in eyes:\n",
        "        for nose in noses:\n",
        "            for mouth in mouths:\n",
        "                face = eye + nose + mouth\n",
        "                count += arr.count(face)\n",
        "    return count"
      ],
      "metadata": {
        "id": "7XWSNMh1Cgid"
      },
      "execution_count": null,
      "outputs": []
    },
    {
      "cell_type": "code",
      "source": [
        "import re\n",
        "\n",
        "def count_smileys(arr):\n",
        "    return sum(1 for s in arr if re.match(r'\\A[:;][-~]?[)D]\\Z',s))"
      ],
      "metadata": {
        "id": "efbAJK7fCi9q"
      },
      "execution_count": null,
      "outputs": []
    },
    {
      "cell_type": "code",
      "source": [
        "def wave(people):\n",
        "  [(char.upper) for char in people, ]"
      ],
      "metadata": {
        "id": "k0aALF91taG8"
      },
      "execution_count": null,
      "outputs": []
    },
    {
      "cell_type": "code",
      "source": [
        "def wave(people):\n",
        "    count = 0\n",
        "    iter = len(people)\n",
        "    print(iter)\n",
        "    #m = list(people)\n",
        "    #print(m)\n",
        "    m = [people]\n",
        "    print(m)\n",
        "    for char in m:\n",
        "        if count <= iter:\n",
        "            # l = ([people[count].upper for char in people])\n",
        "            l = m[count].upper\n",
        "\n",
        "            count += 1\n",
        "            print(l)\n",
        "\n",
        "    #return l\n",
        "print(wave('hello'))\n"
      ],
      "metadata": {
        "colab": {
          "base_uri": "https://localhost:8080/"
        },
        "id": "c9HCdfnqYxn_",
        "outputId": "e8fa72cf-4f6d-4b23-a810-045569610def"
      },
      "execution_count": null,
      "outputs": [
        {
          "output_type": "stream",
          "name": "stdout",
          "text": [
            "5\n",
            "['hello']\n",
            "<built-in method upper of str object at 0x7d1a140fffb0>\n",
            "None\n"
          ]
        }
      ]
    },
    {
      "cell_type": "code",
      "source": [
        "print(int(5.667))"
      ],
      "metadata": {
        "colab": {
          "base_uri": "https://localhost:8080/"
        },
        "id": "Z0BJrK31egBR",
        "outputId": "2ba4caa2-d67e-4dbd-bb24-a9a890927639"
      },
      "execution_count": null,
      "outputs": [
        {
          "output_type": "stream",
          "name": "stdout",
          "text": [
            "5\n"
          ]
        }
      ]
    },
    {
      "cell_type": "code",
      "source": [
        "four(plus(nine())) = 13\n",
        "\n",
        "def four(plus(nine())):\n",
        "\n",
        "  return 4 +"
      ],
      "metadata": {
        "id": "OFxZVyztJNii"
      },
      "execution_count": null,
      "outputs": []
    },
    {
      "cell_type": "code",
      "source": [
        "def greet(name=\"sany\"):\n",
        "    return \"Hello, \" + name\n",
        "\n",
        "print(greet())"
      ],
      "metadata": {
        "colab": {
          "base_uri": "https://localhost:8080/"
        },
        "id": "iJHdfzDsKSHx",
        "outputId": "2852ad1b-81e0-4c1c-cfaa-48fda52e5d92"
      },
      "execution_count": null,
      "outputs": [
        {
          "output_type": "stream",
          "name": "stdout",
          "text": [
            "Hello, sany\n"
          ]
        }
      ]
    },
    {
      "cell_type": "code",
      "source": [
        "def solution(number):\n",
        "    m1 = []\n",
        "    for i in range(number):\n",
        "        if i % 3 == 0 and i >= 0:\n",
        "            m1.append(i)\n",
        "        elif i % 5 == 0 and m1.count(i) == 0:\n",
        "            m1.append(i)\n",
        "        elif i % 5 == 0 and m1.count(i) == 1:\n",
        "            pass\n",
        "        elif i<0:\n",
        "            return int(0)\n",
        "        else:\n",
        "          pass\n",
        "    print(m1)\n",
        "    sum = 0\n",
        "    for i in m1:\n",
        "        sum += i\n",
        "\n",
        "    return sum\n",
        "\n",
        "print(solution(6))"
      ],
      "metadata": {
        "colab": {
          "base_uri": "https://localhost:8080/"
        },
        "id": "vH1dqxRxhMRP",
        "outputId": "fa4c1862-30d1-4f74-f2ba-e4757627574b"
      },
      "execution_count": null,
      "outputs": [
        {
          "output_type": "stream",
          "name": "stdout",
          "text": [
            "[0, 3, 5]\n",
            "8\n"
          ]
        }
      ]
    },
    {
      "cell_type": "code",
      "source": [
        "def increment_string(strng):\n",
        "\n",
        "  for char in strng:\n",
        "       if strng[len(strng) - 1].isdigit() : False:\n",
        "         strng.append('1')\n",
        "         #strng + char\n",
        "       elif strng[len(strng) - 1].is digit()  True and strng[:len(strng) - 1] != '0':\n",
        "         last_num = int(strng[len(strng) - 1])\n",
        "         last_num += 1\n",
        "         s = str(last_num)\n",
        "         strng = replace(strng[len(strng) - 1], s)\n",
        "       elif strng[len(strng) - 1].is digit() = True and strng.count(0) > 1:\n",
        "         for i,char in enumerate(strng):\n",
        "             if char == 0:\n",
        "                 n = int(strng[i:])\n",
        "                 break\n",
        "        n += 1\n",
        "        new = str(n)\n",
        "        strng.append(new)\n",
        "\n",
        "    return strng\n",
        "\n",
        "print(increment_string('poo'))\n"
      ],
      "metadata": {
        "colab": {
          "base_uri": "https://localhost:8080/",
          "height": 109
        },
        "id": "qJSsRkQB6HN3",
        "outputId": "4c718294-3cd2-45fe-da16-f2a41c0fdb49"
      },
      "execution_count": null,
      "outputs": [
        {
          "output_type": "error",
          "ename": "IndentationError",
          "evalue": "unindent does not match any outer indentation level (<tokenize>, line 17)",
          "traceback": [
            "\u001b[0;36m  File \u001b[0;32m\"<tokenize>\"\u001b[0;36m, line \u001b[0;32m17\u001b[0m\n\u001b[0;31m    n += 1\u001b[0m\n\u001b[0m    ^\u001b[0m\n\u001b[0;31mIndentationError\u001b[0m\u001b[0;31m:\u001b[0m unindent does not match any outer indentation level\n"
          ]
        }
      ]
    },
    {
      "cell_type": "code",
      "source": [
        "def increment_string(strng):\n",
        "        if not strng[-1].isdigit():\n",
        "            strng = strng[:len(strng)] + '1'\n",
        "            return strng\n",
        "        else:\n",
        "            n = ''\n",
        "            for i,char in enumerate(strng):\n",
        "                if char.isdigit():\n",
        "                    n = strng[i:]\n",
        "                    index = i\n",
        "                    break\n",
        "            n = int(n)\n",
        "            print(n)\n",
        "            n =+ 1\n",
        "            new = str(n)\n",
        "            print(new)\n",
        "            strng = strng[:index] + new\n",
        "\n",
        "            return strng\n",
        "\n",
        "print(increment_string('foobar001'))"
      ],
      "metadata": {
        "colab": {
          "base_uri": "https://localhost:8080/"
        },
        "id": "BfIiuIjcoLb3",
        "outputId": "d8366f1a-ab6b-4eba-a4b2-b3c33e7db343"
      },
      "execution_count": null,
      "outputs": [
        {
          "output_type": "stream",
          "name": "stdout",
          "text": [
            "1\n",
            "1\n",
            "foobar1\n"
          ]
        }
      ]
    },
    {
      "cell_type": "code",
      "source": [
        "def accum(st):\n",
        "    a = ''\n",
        "    b = ''\n",
        "    c = ''\n",
        "    index = 0\n",
        "    iter = len(st)\n",
        "    for char in st:\n",
        "        a += char.upper()\n",
        "    for char in a[:-1]:\n",
        "      b += (char + '-')\n",
        "    return b + a[-1]\n",
        "    count = 1\n",
        "    #if count == count + n\n",
        "    for i,char in enumerate(b):\n",
        "      if char.isalpha() and i > 0:\n",
        "        c += char + char.lower()\n",
        "        c += c + char.lower()\n",
        "    return b[:1] + c\n",
        "\n",
        "print(accum('abcd'))\n",
        "\n",
        "\n"
      ],
      "metadata": {
        "colab": {
          "base_uri": "https://localhost:8080/"
        },
        "id": "zvDimusB49gy",
        "outputId": "cfcd0413-12ed-4070-f799-4486356b82a5"
      },
      "execution_count": null,
      "outputs": [
        {
          "output_type": "stream",
          "name": "stdout",
          "text": [
            "A-B-C-D\n"
          ]
        }
      ]
    },
    {
      "cell_type": "code",
      "source": [
        "def solution(args): #[0,1,2,4] = [0-2,4]\n",
        "    a = ''\n",
        "    b = ''\n",
        "    count = 0\n",
        "    for i,char in args:\n",
        "        if args[i+1] == args[i] + 1:\n",
        "            count += 1\n",
        "            if count < 1:\n",
        "                a = char\n",
        "        elif args[i+1] != args[i] + 1:\n",
        "            len(args)\n",
        "            a = args[i - count]\n",
        "\n",
        "    for i,char in args:\n",
        "      if args[i] - 1 == args[i-1] and i!=0:\n",
        "        a += args[0] + args[i]\n",
        "      elif not args[i] - 1 == args[i-1]:\n",
        "        b = args[i]\n",
        "\n"
      ],
      "metadata": {
        "id": "zkg4aqrK480W"
      },
      "execution_count": null,
      "outputs": []
    },
    {
      "cell_type": "code",
      "source": [
        "def pig_it(text):\n",
        "    t = ''\n",
        "    word = ''\n",
        "    for i,char in enumerate(text):\n",
        "        if char.isalnum():\n",
        "               word += char\n",
        "\n",
        "        if char == text[0]:\n",
        "            t = text[:char == ''] + text[0] + 'ay'\n",
        "            print(t)\n",
        "        else:\n",
        "            if text[i] == '' and char != '!?':\n",
        "                t += text[:''] + text[i+1] + 'ay'\n",
        "            print(t)\n",
        "    return t\n",
        "print(pig_it('Hello world !'))"
      ],
      "metadata": {
        "colab": {
          "base_uri": "https://localhost:8080/"
        },
        "id": "jsfTVOiJ5ew2",
        "outputId": "fef90f70-f5d0-4a92-b950-cf8fad914abc"
      },
      "execution_count": null,
      "outputs": [
        {
          "output_type": "stream",
          "name": "stdout",
          "text": [
            "Hay\n",
            "Hay\n",
            "Hay\n",
            "Hay\n",
            "Hay\n",
            "Hay\n",
            "Hay\n",
            "Hay\n",
            "Hay\n",
            "Hay\n",
            "Hay\n",
            "Hay\n",
            "Hay\n",
            "Hay\n"
          ]
        }
      ]
    },
    {
      "cell_type": "code",
      "source": [
        "def pig_it(text):\n",
        "    result = []\n",
        "    word = ''\n",
        "    for char in text:\n",
        "        if char.isalnum():\n",
        "            word += char\n",
        "        else:\n",
        "            if word:\n",
        "                result.append(word[1:] + word[0] + 'ay')\n",
        "                word = ''\n",
        "            result.append(char)\n",
        "\n",
        "    if word:\n",
        "        result.append(word[1:] + word[0] + 'ay')\n",
        "\n",
        "    return ' '.join(result)"
      ],
      "metadata": {
        "id": "PyRjFVK2Ayxd"
      },
      "execution_count": null,
      "outputs": []
    },
    {
      "cell_type": "code",
      "source": [
        "def solution(number):\n",
        "  return sum(x for x in range(number) if x % 3 == 0 or x % 5 == 0)\n"
      ],
      "metadata": {
        "id": "KP7UckfuoQj8"
      },
      "execution_count": null,
      "outputs": []
    },
    {
      "cell_type": "code",
      "source": [
        "def pig_it(text):\n",
        "    result = []\n",
        "    word = ''\n",
        "    for char in text:\n",
        "        if char.isalnum():\n",
        "            word += char\n",
        "            #print(word)\n",
        "        else:\n",
        "            if word:\n",
        "                result.append(word[1:] + word[0] + 'ay')\n",
        "                word = ''\n",
        "                print(word)\n",
        "            result.append(char)\n",
        "\n",
        "    # if word:\n",
        "    #     result.append(word[1:] + word[0] + 'ay')\n",
        "\n",
        "    return ''.join(result)\n",
        "\n",
        "print(pig_it('Pig latin is cool'))"
      ],
      "metadata": {
        "colab": {
          "base_uri": "https://localhost:8080/"
        },
        "id": "sJqMEtcwESF-",
        "outputId": "4f5a8d17-6fad-48d6-e74f-b158860f0fb1"
      },
      "execution_count": null,
      "outputs": [
        {
          "output_type": "stream",
          "name": "stdout",
          "text": [
            "\n",
            "\n",
            "\n",
            "igPay atinlay siay \n"
          ]
        }
      ]
    },
    {
      "cell_type": "code",
      "source": [
        "def pig_it(text):\n",
        "    return \" \".join(x[1:] + x[0] + \"ay\" if x.isalnum() else x for x in text.split())\n",
        "#array = [[1,2,3],\n",
        "#          [8,9,4],\n",
        "#          [7,6,5]]\n",
        "# snail(array) #=> [1,2,3,4,5,6,7,8,9]"
      ],
      "metadata": {
        "id": "mPWatwQVGlgB"
      },
      "execution_count": null,
      "outputs": []
    },
    {
      "cell_type": "code",
      "source": [
        "def snail(snail_map):\n",
        "    a1 = ''\n",
        "    b1 = ''\n",
        "    c1 = ''\n",
        "    a = snail_map[0]\n",
        "\n",
        "    b = snail_map[1]\n",
        "    c = snail_map[2]\n",
        "    l = [ str(char) for char in a]\n",
        "    m = [ str(char) for char in b]\n",
        "    n = [ str(char) for char in c]\n",
        "    for char in l:\n",
        "      a1 += char\n",
        "    for char in m:\n",
        "      b1 += char\n",
        "    for char in n:\n",
        "      c1 += char\n",
        "    rev_c = c1[::-1]\n",
        "    s = a1 + b1[2]+ rev_c + b1[0] + b1[1]\n",
        "    t = []\n",
        "    for char in s:\n",
        "      t += char\n",
        "    t = [int(char) for char in t]\n",
        "    return t\n",
        "\n",
        "\n",
        "print(snail([[]]))\n"
      ],
      "metadata": {
        "colab": {
          "base_uri": "https://localhost:8080/"
        },
        "id": "JtAZDrIcI4Rh",
        "outputId": "a32c241c-9242-4c7a-d5a3-af933ac3f339"
      },
      "execution_count": null,
      "outputs": [
        {
          "output_type": "stream",
          "name": "stdout",
          "text": [
            "[]\n"
          ]
        }
      ]
    },
    {
      "cell_type": "code",
      "source": [
        "def snail(snail_map):\n",
        "    if not snail_map:  # Check if the list is empty\n",
        "        return []\n",
        "\n",
        "\n",
        "    flattened = [str(num) for sublist in snail_map for num in sublist]\n",
        "    return [int(num) for num in flattened]\n",
        "print(snail([[1,2,3],[8,9,4],[7,6,5]]))"
      ],
      "metadata": {
        "colab": {
          "base_uri": "https://localhost:8080/"
        },
        "id": "jUcfYpdQGDFZ",
        "outputId": "c99d6ee7-5f4a-49ba-dbf0-ebd0dea688dc"
      },
      "execution_count": null,
      "outputs": [
        {
          "output_type": "stream",
          "name": "stdout",
          "text": [
            "[1, 2, 3, 8]\n"
          ]
        }
      ]
    },
    {
      "cell_type": "code",
      "source": [
        "import numpy as np\n",
        "\n",
        "# Your original list\n",
        "original_list = [477, 500, 257, 661, 104, 561, 331, 206, 831, 76, 843, 747, 373, 196, 355, 474, 37, 967, 680, 277, 997, 570, 547, 892, 340, 131, 204, 942, 568, 433, 494, 533, 74, 78, 877, 550, 672, 623, 599, 749, 596, 379, 169, 202, 424, 128, 208, 867, 216, 898, 438, 641, 639, 551, 816, 36, 386, 334, 261, 189, 532, 483, 791, 201, 494, 479, 974, 925, 650, 170, 944, 952, 589, 585, 967, 817, 139, 829, 618, 298, 287, 478, 981, 936, 625, 432, 857, 387, 890, 733, 441, 586, 642, 84, 823, 414, 119, 50, 288, 447, 755, 117, 822, 882, 297, 326, 198, 181, 418, 143, 310, 280, 230, 73, 37, 839, 789, 953, 789, 630, 383]\n",
        "\n",
        "# Divide the list into three equal parts\n",
        "part_length = len(original_list) // 3\n",
        "part1 = original_list[:part_length]\n",
        "part2 = original_list[part_length:2*part_length]\n",
        "part3 = original_list[2*part_length:]\n",
        "\n",
        "# Pad part3 with zeros to make its size evenly divisible by the number of columns\n",
        "remainder = len(part3) % 5\n",
        "if remainder != 0:\n",
        "    padding = [0] * (5 - remainder)\n",
        "    part3 += padding\n",
        "\n",
        "# Reshape each part into a 2D array\n",
        "array1 = np.array(part1).reshape(-1, 5)\n",
        "array2 = np.array(part2).reshape(-1, 5)\n",
        "array3 = np.array(part3).reshape(-1, 5)\n",
        "\n",
        "[1, 2, 3, 4, 5]\n",
        "[1, 2, 3, 4, 5]\n",
        "[1, 2, 3, 4, 5]\n",
        "[1, 2, 3, 4, 5]\n",
        "[1, 2, 3, 4, 5]\n",
        "\n",
        "[1, 2, 3, 4]\n",
        "[1, 2, 3, 4]\n",
        "[1, 2, 3, 4]\n",
        "[1, 2, 3, 4]\n",
        "\n",
        "[1, 2, 3]\n",
        "[1, 2, 3]\n",
        "[1, 2, 3]\n"
      ],
      "metadata": {
        "colab": {
          "base_uri": "https://localhost:8080/"
        },
        "id": "XZPeVCv6IfMq",
        "outputId": "d4c27d3b-af40-4407-eb65-218da8b033d7"
      },
      "execution_count": null,
      "outputs": [
        {
          "output_type": "execute_result",
          "data": {
            "text/plain": [
              "[1, 2, 3]"
            ]
          },
          "metadata": {},
          "execution_count": 32
        }
      ]
    },
    {
      "cell_type": "code",
      "source": [
        "def snail(snail_map):\n",
        "  n = len(snail_map)\n",
        "  print(n)\n",
        "  x = n + 1\n",
        "  if not snail_map:\n",
        "    return []\n",
        "  elif n == 3:\n",
        "    a1 = ''\n",
        "    b1 = ''\n",
        "    c1 = ''\n",
        "    a = snail_map[0]\n",
        "    b = snail_map[1]\n",
        "    c = snail_map[2]\n",
        "    l = [ str(char) for char in a]\n",
        "    m = [ str(char) for char in b]\n",
        "    n = [ str(char) for char in c]\n",
        "    for char in l:\n",
        "      a1 += char\n",
        "    for char in m:\n",
        "      b1 += char\n",
        "    for char in n:\n",
        "      c1 += char\n",
        "    rev_c = c1[::-1]\n",
        "    s = a1 + b1[2]+ rev_c + b1[0] + b1[1]\n",
        "    t = []\n",
        "    for char in s:\n",
        "      t += char\n",
        "    t = [int(char) for char in t]\n",
        "    return t\n",
        "\n",
        "  elif n > 3:\n",
        "      f = n - 3\n",
        "\n",
        "      a1 = ''\n",
        "      b1 = ''\n",
        "      c1 = ''\n",
        "      a = snail_map[0]\n",
        "      b = snail_map[1]\n",
        "      c = snail_map[2]\n",
        "      l = [ str(char) for char in a]\n",
        "      m = [ str(char) for char in b]\n",
        "      n = [ str(char) for char in c]\n",
        "      for char in l:\n",
        "        a1 += char\n",
        "      for char in m:\n",
        "        b1 += char\n",
        "      for char in n:\n",
        "        c1 += char\n",
        "      rev_c = c1[::-1]\n",
        "      s = snail_map[0] + snail_map[1][3]+ rev_c + b1[0] + b1[1]\n",
        "      t = []\n",
        "      for char in s:\n",
        "        t += char\n",
        "      t = [int(char) for char in t]\n",
        "      return t\n",
        "\n",
        "print(snail([[1,2,3],[8,9,4],[7,6,5]]))"
      ],
      "metadata": {
        "colab": {
          "base_uri": "https://localhost:8080/"
        },
        "id": "x4WK5_wKKvZ-",
        "outputId": "aff98a9b-b834-49c3-b228-f889d5099c94"
      },
      "execution_count": null,
      "outputs": [
        {
          "output_type": "stream",
          "name": "stdout",
          "text": [
            "3\n",
            "None\n"
          ]
        }
      ]
    },
    {
      "cell_type": "code",
      "source": [
        "# Creating a 2D array\n",
        "array_2d = [\n",
        "    [1, 2, 3],\n",
        "    [4, 5, 6],\n",
        "    [7, 8, 9]\n",
        "]\n",
        "# Accessing an element\n",
        "element = array_2d[0][1]  # Accesses element at row 1, column 2 (value: 6)\n",
        "\n",
        "print(element)"
      ],
      "metadata": {
        "colab": {
          "base_uri": "https://localhost:8080/"
        },
        "id": "ZKlVpx9gQ77F",
        "outputId": "fe97dffc-1eb4-417c-9d0c-b17a1f0b49f1"
      },
      "execution_count": null,
      "outputs": [
        {
          "output_type": "stream",
          "name": "stdout",
          "text": [
            "2\n"
          ]
        }
      ]
    },
    {
      "cell_type": "markdown",
      "source": [
        "isalnum()\n",
        "isnum()\n",
        "isalpha()\n",
        "split()"
      ],
      "metadata": {
        "id": "m8-0hXjdHQej"
      }
    },
    {
      "cell_type": "code",
      "source": [
        "def is_isogram(string):\n",
        "    if not string:\n",
        "        return True\n",
        "    string = string.lower()\n",
        "    for char in string:\n",
        "        if string.count(char) > 1:\n",
        "                return False\n",
        "        else:\n",
        "                return True\n",
        "\n",
        "print(is_isogram(\"abc\"))"
      ],
      "metadata": {
        "colab": {
          "base_uri": "https://localhost:8080/"
        },
        "id": "bcTpUgASpZLC",
        "outputId": "e3d469b2-ffe7-4377-b2cd-61de2cda99f9"
      },
      "execution_count": null,
      "outputs": [
        {
          "output_type": "stream",
          "name": "stdout",
          "text": [
            "True\n"
          ]
        }
      ]
    },
    {
      "cell_type": "code",
      "source": [
        "def get_count(sentence):\n",
        "    count = 0\n",
        "    for char in sentence:\n",
        "        if char == 'a':\n",
        "          count += 1\n",
        "        elif char == 'e':\n",
        "          count += 1\n",
        "        elif char == 'i':\n",
        "          count += 1\n",
        "        elif char == 'o':\n",
        "          count += 1\n",
        "        elif char == 'u':\n",
        "          count += 1\n",
        "\n",
        "    return count\n",
        "\n",
        "print(get_count('santhosh'))"
      ],
      "metadata": {
        "colab": {
          "base_uri": "https://localhost:8080/"
        },
        "id": "KGgbT9ajEDZm",
        "outputId": "eaed6b50-c610-457c-ef41-b869a5234dd9"
      },
      "execution_count": null,
      "outputs": [
        {
          "output_type": "stream",
          "name": "stdout",
          "text": [
            "2\n"
          ]
        }
      ]
    },
    {
      "cell_type": "code",
      "source": [
        "def getCount(s):\n",
        "    return sum(c in 'aeiou' for c in s)"
      ],
      "metadata": {
        "id": "nJMU30rwJfo-"
      },
      "execution_count": null,
      "outputs": []
    },
    {
      "cell_type": "code",
      "source": [
        "def rgb(r, g, b):\n",
        "    def hex_step(n):\n",
        "        hex_values = ['0','1','2','3','4','5','6','7','8','9','A','B','C','D','E','F']\n",
        "        if n < 0:\n",
        "            return '00'\n",
        "        elif n > 255:\n",
        "            return 'FF'\n",
        "        else:\n",
        "            return hex_values[n // 16] + hex_values[n % 16]\n",
        "\n",
        "    return hex_step(r) + hex_step(g) + hex_step(b)\n",
        "\n",
        "print(rgb(894,0,0))\n",
        "hex_values = ['0','1','2','3','4','5','6','7','8','9','A','B','C','D','E','F']\n",
        "print(hex_values[10// 16])\n",
        "print(10 // 16)\n",
        "print(hex_values[10 % 16])\n",
        "print(10 % 16)"
      ],
      "metadata": {
        "colab": {
          "base_uri": "https://localhost:8080/"
        },
        "id": "XUKpNRCuUMmV",
        "outputId": "e352f7e6-2692-4c56-dc39-fbe14de27094"
      },
      "execution_count": null,
      "outputs": [
        {
          "output_type": "stream",
          "name": "stdout",
          "text": [
            "FF0000\n",
            "0\n",
            "0\n",
            "A\n",
            "10\n"
          ]
        }
      ]
    },
    {
      "cell_type": "code",
      "source": [
        "def limit(num):\n",
        "    if num < 0:\n",
        "        return 0\n",
        "    if num > 255:\n",
        "        return 255\n",
        "    return num\n",
        "\n",
        "\n",
        "def rgb(r, g, b):\n",
        "    return \"{:02X}{:02X}{:02X}\".format(limit(r), limit(g), limit(b))\n",
        "\n",
        "print(rgb(255,0,251))"
      ],
      "metadata": {
        "colab": {
          "base_uri": "https://localhost:8080/"
        },
        "id": "vzEgNoidhbav",
        "outputId": "0922a1da-67bd-426a-c0c1-98376cb6a2fc"
      },
      "execution_count": null,
      "outputs": [
        {
          "output_type": "stream",
          "name": "stdout",
          "text": [
            "FF00FB\n"
          ]
        }
      ]
    },
    {
      "cell_type": "code",
      "source": [
        "def accum(st):\n",
        "    st = st.lower()\n",
        "    result = ''\n",
        "    for i, ch in enumerate(st):\n",
        "        if i == 0:\n",
        "            result += ch.upper() + '-'\n",
        "            print(result)\n",
        "        elif ch.isalpha():\n",
        "            result += ch.upper() + ch * i + '-'\n",
        "            print(result)\n",
        "        else:\n",
        "            result += ch.upper() + ch * i\n",
        "            print(result)\n",
        "    return result[:-1]\n",
        "\n",
        "print(accum(\"aaa\"))"
      ],
      "metadata": {
        "colab": {
          "base_uri": "https://localhost:8080/"
        },
        "id": "ZYLk2lo_L4HI",
        "outputId": "5125a267-c68b-4bed-e058-65c6e90ddb9c"
      },
      "execution_count": null,
      "outputs": [
        {
          "output_type": "stream",
          "name": "stdout",
          "text": [
            "A-\n",
            "A-Aa-\n",
            "A-Aa-Aaa-\n",
            "A-Aa-Aaa\n"
          ]
        }
      ]
    },
    {
      "cell_type": "code",
      "source": [
        "# add(1), 1)\n",
        "# (add(1)(2), 3)\n",
        "# (add(1)(2)(3), 6)\n",
        "\n",
        "\n",
        "def add(str(n)):\n",
        "\n",
        "    return n\n",
        "\n",
        "print(add((1)(2)))"
      ],
      "metadata": {
        "colab": {
          "base_uri": "https://localhost:8080/",
          "height": 109
        },
        "id": "E2Ujs0iL2_Wo",
        "outputId": "e777f502-9572-480a-8186-9bbfd3c103c6"
      },
      "execution_count": null,
      "outputs": [
        {
          "output_type": "error",
          "ename": "SyntaxError",
          "evalue": "invalid syntax (<ipython-input-8-406047a0f2db>, line 6)",
          "traceback": [
            "\u001b[0;36m  File \u001b[0;32m\"<ipython-input-8-406047a0f2db>\"\u001b[0;36m, line \u001b[0;32m6\u001b[0m\n\u001b[0;31m    def add(str(n)):\u001b[0m\n\u001b[0m               ^\u001b[0m\n\u001b[0;31mSyntaxError\u001b[0m\u001b[0;31m:\u001b[0m invalid syntax\n"
          ]
        }
      ]
    },
    {
      "cell_type": "code",
      "source": [
        "def add_binary(a, b):\n",
        "    return format(a + b, 'b')\n",
        "\n",
        "print(add_binary(5,7))"
      ],
      "metadata": {
        "colab": {
          "base_uri": "https://localhost:8080/"
        },
        "id": "zRlSOvHu9bIo",
        "outputId": "33451439-9947-40bd-c716-e7e0ea05857e"
      },
      "execution_count": null,
      "outputs": [
        {
          "output_type": "stream",
          "name": "stdout",
          "text": [
            "1100\n"
          ]
        }
      ]
    },
    {
      "cell_type": "code",
      "source": [
        "def findSmallestInt(arr):\n",
        "    return min(arr)"
      ],
      "metadata": {
        "id": "jTH3b1bULE5V"
      },
      "execution_count": null,
      "outputs": []
    },
    {
      "cell_type": "code",
      "source": [
        "def nb_year(p0, percent, aug, p):\n",
        "    count = 0\n",
        "    percent = percent/100\n",
        "    while p0 < p:\n",
        "      p0 = p0 + int(p0 * percent) + aug\n",
        "      count += 1\n",
        "\n",
        "    n = count\n",
        "\n",
        "    return n\n",
        "\n",
        "print(nb_year(1500, 5, 100, 5000)) #15)"
      ],
      "metadata": {
        "colab": {
          "base_uri": "https://localhost:8080/"
        },
        "id": "6srAyEd6Hj0Q",
        "outputId": "3b35f12f-dd25-4ba2-d3e3-d9e9d504520b"
      },
      "execution_count": null,
      "outputs": [
        {
          "output_type": "stream",
          "name": "stdout",
          "text": [
            "15\n"
          ]
        }
      ]
    },
    {
      "cell_type": "code",
      "source": [
        "import cv2\n",
        "import numpy as np\n",
        "\n",
        "def stackImages(scale, imgArray):\n",
        "    rows = len(imgArray)\n",
        "    cols = len(imgArray[0])\n",
        "    rowsAvailable = isinstance(imgArray[0], list)\n",
        "    width = imgArray[0][0].shape[1]\n",
        "    height = imgArray[0][0].shape[0]\n",
        "\n",
        "    if rowsAvailable:\n",
        "        for x in range(0, rows):\n",
        "            for y in range(0, cols):\n",
        "                if imgArray[x][y].shape[:2] == imgArray[0][0].shape[:2]:\n",
        "                    imgArray[x][y] = cv2.resize(imgArray[x][y], (0, 0), None, scale, scale)\n",
        "                else:\n",
        "                    imgArray[x][y] = cv2.resize(imgArray[x][y], (imgArray[0][0].shape[1], imgArray[0][0].shape[0]))\n",
        "\n",
        "                if len(imgArray[x][y].shape) == 2:\n",
        "                    imgArray[x][y] = cv2.cvtColor(imgArray[x][y], cv2.COLOR_GRAY2BGR)  # Convert grayscale to BGR\n",
        "\n",
        "        imageBlank = np.zeros((height, width, 3), np.uint8)\n",
        "        hor = [imageBlank] * rows\n",
        "        hor_con = [imageBlank] * rows\n",
        "        for x in range(0, rows):\n",
        "            hor[x] = np.hstack(imgArray[x])\n",
        "        ver = np.vstack(hor)\n",
        "    else:\n",
        "        for x in range(0, rows):\n",
        "            if imgArray[x].shape[:2] == imgArray[0].shape[:2]:\n",
        "                imgArray[x] = cv2.resize(imgArray[x], (0, 0), None, scale, scale)\n",
        "            else:\n",
        "                imgArray[x] = cv2.resize(imgArray[x], (imgArray[0].shape[1], imgArray[0].shape[0]))\n",
        "\n",
        "            if len(imgArray[x].shape) == 2:\n",
        "                imgArray[x] = cv2.cvtColor(imgArray[x], cv2.COLOR_GRAY2BGR)  # Convert grayscale to BGR\n",
        "        hor = np.hstack(imgArray)\n",
        "        ver = hor\n",
        "\n",
        "    return ver\n",
        "\n",
        "# Example usage:\n",
        "# stacked_img = stackImages(0.5, [[img1, img2], [img3, img4]])\n",
        "# cv2.imshow(\"Stacked Images\", stacked_img)\n",
        "# cv2.waitKey(0)\n"
      ],
      "metadata": {
        "id": "iRBLZap5AFJy"
      },
      "execution_count": null,
      "outputs": []
    },
    {
      "cell_type": "code",
      "source": [
        "print(ord('q'))\n",
        "\n",
        "print(113 & 0b11111111)"
      ],
      "metadata": {
        "colab": {
          "base_uri": "https://localhost:8080/"
        },
        "id": "nxAg5Xl0_IkS",
        "outputId": "50670510-0818-403e-9bf6-c5ed97e8bfd8"
      },
      "execution_count": null,
      "outputs": [
        {
          "output_type": "stream",
          "name": "stdout",
          "text": [
            "113\n",
            "113\n"
          ]
        }
      ]
    },
    {
      "cell_type": "code",
      "source": [
        "[10:31 PM] ., Santhosh\n",
        "def solution(a, b):\n",
        "    return sum((a[i]-b[i])**2 for i in range(len(a)))/len(a)"
      ],
      "metadata": {
        "id": "31qzYOqE3WjH"
      },
      "execution_count": null,
      "outputs": []
    },
    {
      "cell_type": "code",
      "source": [
        "import re\n",
        "\n",
        "\n",
        "regex =\"\"\n",
        "\n",
        "def password(regex):\n",
        "    pattern = r'^(?=.*[a-z])(?=.*[A-Z])(?=.*\\d)[A-Za-z\\d]{6,}$'\n",
        "    return bool(re.match(pattern, regex))\n",
        "print(password('123abcABC'))\n"
      ],
      "metadata": {
        "colab": {
          "base_uri": "https://localhost:8080/"
        },
        "id": "WfMHf9Xs5id2",
        "outputId": "ee5a578e-c1d0-48c5-fe81-84dd00fb4971"
      },
      "execution_count": null,
      "outputs": [
        {
          "output_type": "stream",
          "name": "stdout",
          "text": [
            "True\n"
          ]
        }
      ]
    },
    {
      "cell_type": "code",
      "source": [
        "regex=\"^(?=.*[a-z])(?=.*[A-Z])(?=.*\\d)[^\\W_]{6,}$\""
      ],
      "metadata": {
        "id": "-5NQP2-UHWRg"
      },
      "execution_count": null,
      "outputs": []
    },
    {
      "cell_type": "code",
      "source": [
        "arr = [\"NORTH\", \"SOUTH\", \"SOUTH\", \"EAST\", \"WEST\", \"NORTH\", \"WEST\"]\n",
        "\n",
        "arr1 = [\"NORTH\", \"WEST\", \"SOUTH\", \"EAST\"]\n",
        "\n",
        "def dir_reduc(arr):\n",
        "\n",
        "\n",
        "    for i in range(len(arr)):\n",
        "      if i+1 < len(arr):\n",
        "        if arr[i] == 'NORTH':\n",
        "          if arr[i+1] == 'SOUTH':\n",
        "            arr.remove('NORTH')\n",
        "            arr.remove('SOUTH')\n",
        "          else:\n",
        "            pass\n",
        "        elif arr[i] == 'SOUTH':\n",
        "          if arr[i+1] == 'NORTH':\n",
        "            arr.remove('SOUTH')\n",
        "            arr.remove('NORTH')\n",
        "          else:\n",
        "            pass\n",
        "        elif arr[i] == 'EAST':\n",
        "          if arr[i+1] == 'WEST':\n",
        "            arr.remove('EAST')\n",
        "            arr.remove('WEST')\n",
        "          else:\n",
        "            pass\n",
        "        elif arr[i] == 'WEST':\n",
        "          if arr[i+1] == 'EAST':\n",
        "             arr.remove('WEST')\n",
        "             arr.remove('EAST')\n",
        "          else:\n",
        "            pass\n",
        "        #print(arr)\n",
        "        #arr.remove('x')\n",
        "\n",
        "\n",
        "    return arr\n",
        "a = []\n",
        "for i in range(len(arr)-1):\n",
        "  if i+1 < len(arr)-1:\n",
        "    if arr[i+1] == 'NORTH':\n",
        "      if arr[i+2] == 'SOUTH':\n",
        "        a = print(dir_reduc(arr))\n",
        "    elif arr[i+1] == 'SOUTH':\n",
        "      if arr[i+2] == 'NORTH':\n",
        "        a = print(dir_reduc(arr))\n",
        "    elif arr[i+1] == 'EAST':\n",
        "      if arr[i+2] == 'WEST':\n",
        "        a = print(dir_reduc(arr))\n",
        "    elif arr[i+1] == 'WEST':\n",
        "      if arr[i+2] == 'EAST':\n",
        "        a = print(dir_reduc(arr))\n",
        "print(a)\n",
        "for i in range(len(a)):\n",
        "  if i+1 < len(a)-1:\n",
        "    if a[i+1] == 'NORTH':\n",
        "      if a[i+2] == 'SOUTH':\n",
        "        b = print(dir_reduc(a))\n",
        "    elif arr[i+1] == 'SOUTH':\n",
        "      if arr[i+2] == 'NORTH':\n",
        "        b = print(dir_reduc(a))\n",
        "    elif arr[i+1] == 'EAST':\n",
        "      if arr[i+2] == 'WEST':\n",
        "        b = print(dir_reduc(a))\n",
        "    elif arr[i+1] == 'WEST':\n",
        "      if arr[i+2] == 'EAST':\n",
        "        b = print(dir_reduc(a))\n",
        "\n",
        "\n",
        "\n",
        "\n",
        "\n",
        "\n",
        "\n",
        "\n",
        "\n"
      ],
      "metadata": {
        "id": "XKkkkHX-OdJH",
        "colab": {
          "base_uri": "https://localhost:8080/",
          "height": 252
        },
        "outputId": "f3b8756f-dd5d-423b-d469-41ab400b0173"
      },
      "execution_count": null,
      "outputs": [
        {
          "output_type": "stream",
          "name": "stdout",
          "text": [
            "['SOUTH', 'NORTH', 'WEST']\n",
            "None\n"
          ]
        },
        {
          "output_type": "error",
          "ename": "TypeError",
          "evalue": "object of type 'NoneType' has no len()",
          "traceback": [
            "\u001b[0;31m---------------------------------------------------------------------------\u001b[0m",
            "\u001b[0;31mTypeError\u001b[0m                                 Traceback (most recent call last)",
            "\u001b[0;32m<ipython-input-32-8d6418e27a84>\u001b[0m in \u001b[0;36m<cell line: 55>\u001b[0;34m()\u001b[0m\n\u001b[1;32m     53\u001b[0m         \u001b[0ma\u001b[0m \u001b[0;34m=\u001b[0m \u001b[0mprint\u001b[0m\u001b[0;34m(\u001b[0m\u001b[0mdir_reduc\u001b[0m\u001b[0;34m(\u001b[0m\u001b[0marr\u001b[0m\u001b[0;34m)\u001b[0m\u001b[0;34m)\u001b[0m\u001b[0;34m\u001b[0m\u001b[0;34m\u001b[0m\u001b[0m\n\u001b[1;32m     54\u001b[0m \u001b[0mprint\u001b[0m\u001b[0;34m(\u001b[0m\u001b[0ma\u001b[0m\u001b[0;34m)\u001b[0m\u001b[0;34m\u001b[0m\u001b[0;34m\u001b[0m\u001b[0m\n\u001b[0;32m---> 55\u001b[0;31m \u001b[0;32mfor\u001b[0m \u001b[0mi\u001b[0m \u001b[0;32min\u001b[0m \u001b[0mrange\u001b[0m\u001b[0;34m(\u001b[0m\u001b[0mlen\u001b[0m\u001b[0;34m(\u001b[0m\u001b[0ma\u001b[0m\u001b[0;34m)\u001b[0m\u001b[0;34m)\u001b[0m\u001b[0;34m:\u001b[0m\u001b[0;34m\u001b[0m\u001b[0;34m\u001b[0m\u001b[0m\n\u001b[0m\u001b[1;32m     56\u001b[0m   \u001b[0;32mif\u001b[0m \u001b[0mi\u001b[0m\u001b[0;34m+\u001b[0m\u001b[0;36m1\u001b[0m \u001b[0;34m<\u001b[0m \u001b[0mlen\u001b[0m\u001b[0;34m(\u001b[0m\u001b[0ma\u001b[0m\u001b[0;34m)\u001b[0m\u001b[0;34m-\u001b[0m\u001b[0;36m1\u001b[0m\u001b[0;34m:\u001b[0m\u001b[0;34m\u001b[0m\u001b[0;34m\u001b[0m\u001b[0m\n\u001b[1;32m     57\u001b[0m     \u001b[0;32mif\u001b[0m \u001b[0ma\u001b[0m\u001b[0;34m[\u001b[0m\u001b[0mi\u001b[0m\u001b[0;34m+\u001b[0m\u001b[0;36m1\u001b[0m\u001b[0;34m]\u001b[0m \u001b[0;34m==\u001b[0m \u001b[0;34m'NORTH'\u001b[0m\u001b[0;34m:\u001b[0m\u001b[0;34m\u001b[0m\u001b[0;34m\u001b[0m\u001b[0m\n",
            "\u001b[0;31mTypeError\u001b[0m: object of type 'NoneType' has no len()"
          ]
        }
      ]
    },
    {
      "cell_type": "code",
      "source": [
        "def valid_ISBN10(isbn):\n",
        "    a = 0\n",
        "\n",
        "    for i,c in enumerate(isbn):\n",
        "        if isbn.count('X') == 1 and len(isbn) == 10:\n",
        "          return True\n",
        "        elif isbn.count('X') != 1 and len(isbn) == 10:\n",
        "          a += int(c) * (i+1)\n",
        "    if a % 11 == 0:\n",
        "      return True\n",
        "    else:\n",
        "      return False\n",
        "\n",
        "print(valid_ISBN10('1234554321'))"
      ],
      "metadata": {
        "colab": {
          "base_uri": "https://localhost:8080/"
        },
        "id": "WBRQfgNc-YJc",
        "outputId": "2d7e6c49-68e4-4a2c-8355-1e93b89057bd"
      },
      "execution_count": null,
      "outputs": [
        {
          "output_type": "stream",
          "name": "stdout",
          "text": [
            "1\n",
            "5\n",
            "14\n",
            "30\n",
            "55\n",
            "85\n",
            "113\n",
            "137\n",
            "155\n",
            "165\n",
            "True\n"
          ]
        }
      ]
    },
    {
      "cell_type": "code",
      "source": [
        "def first_non_repeating_letter(s):\n",
        "    s1 = s.lower()\n",
        "    print(s1)\n",
        "    t = ''\n",
        "    if s == '':\n",
        "        return t\n",
        "    else:\n",
        "        for i,c in enumerate(s1):\n",
        "            if s1.count(c) > 1 and c != s1[-1]:\n",
        "              if c == s1[-1]:\n",
        "                return \"\"\n",
        "            elif s1.count(c) == 1:\n",
        "                return s[i]\n",
        "\n",
        "\n",
        "print(first_non_repeating_letter('abba'))"
      ],
      "metadata": {
        "colab": {
          "base_uri": "https://localhost:8080/"
        },
        "id": "jmKs0yuKMVd8",
        "outputId": "1c12f242-7ae3-4547-c6d1-c6e7793e8947"
      },
      "execution_count": null,
      "outputs": [
        {
          "output_type": "stream",
          "name": "stdout",
          "text": [
            "abba\n",
            "None\n"
          ]
        }
      ]
    },
    {
      "cell_type": "code",
      "source": [
        "a = 'a'\n",
        "b = 0\n",
        "\n",
        "print(len(a))"
      ],
      "metadata": {
        "colab": {
          "base_uri": "https://localhost:8080/"
        },
        "id": "mgaxr8NLSpsu",
        "outputId": "6a92f9fd-8260-4dd2-8221-863e7e500ab8"
      },
      "execution_count": null,
      "outputs": [
        {
          "output_type": "stream",
          "name": "stdout",
          "text": [
            "1\n"
          ]
        }
      ]
    },
    {
      "cell_type": "code",
      "source": [
        "def alphanumeric(password):\n",
        "    if len(password) > 1:\n",
        "        for c in password:\n",
        "            if c.isalnum and c !='':\n",
        "                pass\n",
        "            else:\n",
        "                return False\n",
        "\n",
        "        return True\n",
        "    else:\n",
        "        False\n",
        "\n",
        "print(alphanumeric(\"hello world_\"))"
      ],
      "metadata": {
        "colab": {
          "base_uri": "https://localhost:8080/"
        },
        "id": "_xJMU8xvzLjR",
        "outputId": "4fb63cdc-ffd6-462b-d972-696ecac766e4"
      },
      "execution_count": null,
      "outputs": [
        {
          "output_type": "stream",
          "name": "stdout",
          "text": [
            "True\n"
          ]
        }
      ]
    },
    {
      "cell_type": "code",
      "source": [
        "string = ''\n",
        "def alphanumeric(string):\n",
        "    return string.isalnum()\n",
        "\n",
        "print(alphanumeric('Hello World'))"
      ],
      "metadata": {
        "colab": {
          "base_uri": "https://localhost:8080/"
        },
        "id": "Pb_uD67YzrVC",
        "outputId": "2a1a5b85-9c74-4f65-947f-497bffd9dd70"
      },
      "execution_count": null,
      "outputs": [
        {
          "output_type": "stream",
          "name": "stdout",
          "text": [
            "False\n"
          ]
        }
      ]
    },
    {
      "cell_type": "code",
      "source": [
        "my_string = \"hello\"\n",
        "for i in range(1, len(my_string), 2):\n",
        "    print(my_string[i])"
      ],
      "metadata": {
        "id": "ZEJvXS8UOI9S",
        "colab": {
          "base_uri": "https://localhost:8080/"
        },
        "outputId": "bbcedbcb-48db-4ba6-a474-862e1fe5b1f3"
      },
      "execution_count": null,
      "outputs": [
        {
          "output_type": "stream",
          "name": "stdout",
          "text": [
            "e\n",
            "l\n"
          ]
        }
      ]
    },
    {
      "cell_type": "code",
      "source": [
        "def move_zeros(lst):\n",
        "    l = []\n",
        "    for x in lst:\n",
        "        if x != 0:\n",
        "            l.append(x)\n",
        "    n = lst.count(0)\n",
        "    for x in range(n):\n",
        "        l.append(0)\n",
        "\n",
        "    return l\n",
        "print(move_zeros([1, 0, 1, 2, 0, 1, 3]))"
      ],
      "metadata": {
        "colab": {
          "base_uri": "https://localhost:8080/"
        },
        "id": "hQ9n-hmd9KJY",
        "outputId": "40bcbba9-eb76-4462-99f7-e3f604827d03"
      },
      "execution_count": null,
      "outputs": [
        {
          "output_type": "stream",
          "name": "stdout",
          "text": [
            "[1, 1, 2, 1, 3, 0, 0]\n"
          ]
        }
      ]
    },
    {
      "cell_type": "code",
      "source": [
        "# morse_code.py\n",
        "\n",
        "class MorseCode:\n",
        "    _morse_dict = {\n",
        "        'A': '.-', 'B': '-...', 'C': '-.-.', 'D': '-..', 'E': '.', 'F': '..-.', 'G': '--.', 'H': '....',\n",
        "        'I': '..', 'J': '.---', 'K': '-.-', 'L': '.-..', 'M': '--', 'N': '-.', 'O': '---', 'P': '.--.',\n",
        "        'Q': '--.-', 'R': '.-.', 'S': '...', 'T': '-', 'U': '..-', 'V': '...-', 'W': '.--', 'X': '-..-',\n",
        "        'Y': '-.--', 'Z': '--..',\n",
        "        '1': '.----', '2': '..---', '3': '...--', '4': '....-', '5': '.....', '6': '-....', '7': '--...',\n",
        "        '8': '---..', '9': '----.', '0': '-----',\n",
        "        ' ': '/'\n",
        "    }\n",
        "\n",
        "    def __init__(self):\n",
        "        self.message = \"\"\n",
        "\n",
        "    def encode(self, message):\n",
        "        self.message = message.upper()\n",
        "        encoded_message = ' '.join(self._morse_dict[char] for char in self.message if char in self._morse_dict)\n",
        "        return encoded_message\n",
        "\n",
        "    def decode(self, morse_code):\n",
        "        reversed_dict = {v: k for k, v in self._morse_dict.items()}\n",
        "        decoded_message = ''.join(reversed_dict[char] for char in morse_code.split(' ') if char in reversed_dict)\n",
        "        return decoded_message\n",
        "\n",
        "from morse_code import MorseCode\n",
        "\n",
        "# Create an instance of the MorseCode class\n",
        "morse = MorseCode()\n",
        "\n",
        "# Encode a message\n",
        "# message = \"HELLO WORLD\"\n",
        "# encoded_message = morse.encode(message)\n",
        "# print(f\"Encoded Message: {encoded_message}\")\n",
        "\n",
        "# Decode a message\n",
        "morse_message = \".... . .-.. .-.. --- / .-- --- .-. .-.. -..\"\n",
        "decoded_message = morse.decode(morse_message)\n",
        "print(f\"Decoded Message: {decoded_message}\")\n",
        "\n",
        "def decode(morse_code):\n",
        "    a = []\n",
        "    b = ''\n",
        "    count = 0\n",
        "    for i,ch in enumerate(morse_code):\n",
        "        if ch == ' ' and morse_code[i-1] == ' ':\n",
        "            a.append(morse_code)[:i-1]\n",
        "            a.append(morse_code)[:-1]\n",
        "\n",
        "\n",
        "    b = ''.join([MORSE_CODE(x) for x in a])\n",
        "\n",
        "    return b\n",
        "\n",
        "print(decode('.... . -.--   .--- ..- -.. .'))\n"
      ],
      "metadata": {
        "colab": {
          "base_uri": "https://localhost:8080/",
          "height": 383
        },
        "id": "FZJKbVsF7WZQ",
        "outputId": "604e1228-740a-4313-a20b-dea568597ed2"
      },
      "execution_count": null,
      "outputs": [
        {
          "output_type": "error",
          "ename": "ModuleNotFoundError",
          "evalue": "No module named 'preloaded'",
          "traceback": [
            "\u001b[0;31m---------------------------------------------------------------------------\u001b[0m",
            "\u001b[0;31mModuleNotFoundError\u001b[0m                       Traceback (most recent call last)",
            "\u001b[0;32m<ipython-input-2-a962d484384d>\u001b[0m in \u001b[0;36m<cell line: 1>\u001b[0;34m()\u001b[0m\n\u001b[0;32m----> 1\u001b[0;31m \u001b[0;32mfrom\u001b[0m \u001b[0mpreloaded\u001b[0m \u001b[0;32mimport\u001b[0m \u001b[0mMORSE_CODE\u001b[0m\u001b[0;34m\u001b[0m\u001b[0;34m\u001b[0m\u001b[0m\n\u001b[0m\u001b[1;32m      2\u001b[0m \u001b[0;34m\u001b[0m\u001b[0m\n\u001b[1;32m      3\u001b[0m \u001b[0;32mdef\u001b[0m \u001b[0mdecode_morse\u001b[0m\u001b[0;34m(\u001b[0m\u001b[0mmorse_code\u001b[0m\u001b[0;34m)\u001b[0m\u001b[0;34m:\u001b[0m\u001b[0;34m\u001b[0m\u001b[0;34m\u001b[0m\u001b[0m\n\u001b[1;32m      4\u001b[0m     \u001b[0;31m# Remember - you can use the preloaded MORSE_CODE dictionary:\u001b[0m\u001b[0;34m\u001b[0m\u001b[0;34m\u001b[0m\u001b[0m\n\u001b[1;32m      5\u001b[0m     \u001b[0;31m# For example:\u001b[0m\u001b[0;34m\u001b[0m\u001b[0;34m\u001b[0m\u001b[0m\n",
            "\u001b[0;31mModuleNotFoundError\u001b[0m: No module named 'preloaded'",
            "",
            "\u001b[0;31m---------------------------------------------------------------------------\u001b[0;32m\nNOTE: If your import is failing due to a missing package, you can\nmanually install dependencies using either !pip or !apt.\n\nTo view examples of installing some common dependencies, click the\n\"Open Examples\" button below.\n\u001b[0;31m---------------------------------------------------------------------------\u001b[0m\n"
          ],
          "errorDetails": {
            "actions": [
              {
                "action": "open_url",
                "actionText": "Open Examples",
                "url": "/notebooks/snippets/importing_libraries.ipynb"
              }
            ]
          }
        }
      ]
    },
    {
      "cell_type": "code",
      "source": [
        "def decode_morse(morse_code):\n",
        "    a = []\n",
        "    words = morse_code.strip().split('  ')\n",
        "    print(words)\n",
        "    chars = [word.split(' ') for word in words]\n",
        "    []\n",
        "\n",
        "\n",
        "\n",
        "    print(chars)\n",
        "\n",
        "\n",
        "    #s = ''.join(MORSE_CODE[char] for char in chars)\n",
        "\n",
        "    #return ''.join([word.split(' ') for word in words])\n",
        "\n",
        "print(decode_morse('H E Y  J U D E'))"
      ],
      "metadata": {
        "id": "SA1s7R-C0F4W",
        "colab": {
          "base_uri": "https://localhost:8080/",
          "height": 315
        },
        "outputId": "99c34c2b-56a9-486d-8e5e-5dc5582cc837"
      },
      "execution_count": null,
      "outputs": [
        {
          "output_type": "stream",
          "name": "stdout",
          "text": [
            "['H E Y', 'J U D E']\n"
          ]
        },
        {
          "output_type": "error",
          "ename": "TypeError",
          "evalue": "sequence item 0: expected str instance, list found",
          "traceback": [
            "\u001b[0;31m---------------------------------------------------------------------------\u001b[0m",
            "\u001b[0;31mTypeError\u001b[0m                                 Traceback (most recent call last)",
            "\u001b[0;32m<ipython-input-14-995566cd1d78>\u001b[0m in \u001b[0;36m<cell line: 20>\u001b[0;34m()\u001b[0m\n\u001b[1;32m     18\u001b[0m     \u001b[0;31m#return ''.join([word.split(' ') for word in words])\u001b[0m\u001b[0;34m\u001b[0m\u001b[0;34m\u001b[0m\u001b[0m\n\u001b[1;32m     19\u001b[0m \u001b[0;34m\u001b[0m\u001b[0m\n\u001b[0;32m---> 20\u001b[0;31m \u001b[0mprint\u001b[0m\u001b[0;34m(\u001b[0m\u001b[0mdecode_morse\u001b[0m\u001b[0;34m(\u001b[0m\u001b[0;34m'H E Y  J U D E'\u001b[0m\u001b[0;34m)\u001b[0m\u001b[0;34m)\u001b[0m\u001b[0;34m\u001b[0m\u001b[0;34m\u001b[0m\u001b[0m\n\u001b[0m",
            "\u001b[0;32m<ipython-input-14-995566cd1d78>\u001b[0m in \u001b[0;36mdecode_morse\u001b[0;34m(morse_code)\u001b[0m\n\u001b[1;32m      7\u001b[0m     \u001b[0mn\u001b[0m \u001b[0;34m=\u001b[0m \u001b[0;34m[\u001b[0m\u001b[0;34m]\u001b[0m\u001b[0;34m\u001b[0m\u001b[0;34m\u001b[0m\u001b[0m\n\u001b[1;32m      8\u001b[0m     \u001b[0mcount\u001b[0m \u001b[0;34m=\u001b[0m \u001b[0;36m0\u001b[0m\u001b[0;34m\u001b[0m\u001b[0;34m\u001b[0m\u001b[0m\n\u001b[0;32m----> 9\u001b[0;31m     \u001b[0;34m''\u001b[0m\u001b[0;34m.\u001b[0m\u001b[0mjoin\u001b[0m\u001b[0;34m(\u001b[0m\u001b[0;34m[\u001b[0m\u001b[0mword\u001b[0m\u001b[0;34m.\u001b[0m\u001b[0msplit\u001b[0m\u001b[0;34m(\u001b[0m\u001b[0;34m' '\u001b[0m\u001b[0;34m)\u001b[0m \u001b[0;32mfor\u001b[0m \u001b[0mword\u001b[0m \u001b[0;32min\u001b[0m \u001b[0mwords\u001b[0m\u001b[0;34m]\u001b[0m\u001b[0;34m)\u001b[0m\u001b[0;34m\u001b[0m\u001b[0;34m\u001b[0m\u001b[0m\n\u001b[0m\u001b[1;32m     10\u001b[0m \u001b[0;34m\u001b[0m\u001b[0m\n\u001b[1;32m     11\u001b[0m \u001b[0;34m\u001b[0m\u001b[0m\n",
            "\u001b[0;31mTypeError\u001b[0m: sequence item 0: expected str instance, list found"
          ]
        }
      ]
    },
    {
      "cell_type": "code",
      "source": [
        "def comp(array1,array2):\n",
        "    arr = []\n",
        "    if array1 and array2 is None:\n",
        "        return False\n",
        "    else:\n",
        "        for n in (array1):\n",
        "            arr.append(n ** 2)\n",
        "        for i,n in enumerate(array2):\n",
        "            if n in arr:\n",
        "                pass\n",
        "            else:\n",
        "                return False\n",
        "        return True\n",
        "\n",
        "print(comp([121, 144, 19, 161, 19, 144, 19, 11], [11*11, 121*121, 144*144, 19*19, 161*161, 19*19, 144*144, 19*19]))\n",
        "\n",
        "# a1 = [121, 144, 19, 161, 19, 144, 19, 11]\n",
        "#         a2 = [11*11, 121*121, 144*144, 19*19, 161*161, 19*19, 144*144, 19*19]"
      ],
      "metadata": {
        "colab": {
          "base_uri": "https://localhost:8080/"
        },
        "id": "ujWZx6i8MWYd",
        "outputId": "ee9c7acd-528a-4e14-859d-41323d4aad31"
      },
      "execution_count": null,
      "outputs": [
        {
          "output_type": "stream",
          "name": "stdout",
          "text": [
            "True\n"
          ]
        }
      ]
    },
    {
      "cell_type": "code",
      "source": [
        "def comp(array1, array2):\n",
        "    if array1 is None or array2 is None:\n",
        "        return False\n",
        "    else:\n",
        "        arr = [n ** 2 for n in array1]\n",
        "        arr.sort()\n",
        "        array2.sort()  # Sort array2 in place\n",
        "        arr1 = array2[:]  # Assign a copy of the sorted array2 to arr1\n",
        "        return arr == arr1\n"
      ],
      "metadata": {
        "id": "25mv5s6ERQw3"
      },
      "execution_count": null,
      "outputs": []
    },
    {
      "cell_type": "code",
      "source": [
        "def comp(array1, array2):\n",
        "    try:\n",
        "        return sorted([i ** 2 for i in array1]) == sorted(array2)\n",
        "    except:\n",
        "        return False"
      ],
      "metadata": {
        "id": "L4BJ4V-CRqA-"
      },
      "execution_count": null,
      "outputs": []
    },
    {
      "cell_type": "code",
      "source": [
        "def domain_name(url):\n",
        "    a = []\n",
        "    b = []\n",
        "    c = []\n",
        "    d = ''\n",
        "    e = []\n",
        "    f = []\n",
        "    g = []\n",
        "    if url.count('/') > 1:\n",
        "        a = url.split('//')\n",
        "        print(a)\n",
        "        b.append(a[1])\n",
        "        print(b)\n",
        "        d = ''.join(b)\n",
        "        print(d)\n",
        "        c = d.split('.')\n",
        "        print(c)\n",
        "        for i,ch in enumerate(c):\n",
        "            if ch == 'com' or ch =='co' or ch =='ru' or ch =='org' or ch =='net' or ch == 'com/kata':\n",
        "                return c[i-1]\n",
        "    elif url.count('/') >= 2:\n",
        "        e = url.split('.')\n",
        "        return e[1]\n",
        "    else:\n",
        "        if url.count('.') > 1:\n",
        "            f = url.split('.')\n",
        "            return f[1]\n",
        "        else:\n",
        "            g = url.split('.')\n",
        "            return g[0]\n",
        "\n",
        "\n",
        "print(domain_name(\"http://www.codewars.com/kata/\"))"
      ],
      "metadata": {
        "colab": {
          "base_uri": "https://localhost:8080/"
        },
        "id": "sYUnDhGdXigD",
        "outputId": "d52c05bd-6b25-43e2-d850-01e638f5392c"
      },
      "execution_count": null,
      "outputs": [
        {
          "output_type": "stream",
          "name": "stdout",
          "text": [
            "['http:', 'www.codewars.com/kata/']\n",
            "['www.codewars.com/kata/']\n",
            "www.codewars.com/kata/\n",
            "['www', 'codewars', 'com/kata/']\n",
            "None\n"
          ]
        }
      ]
    },
    {
      "cell_type": "code",
      "source": [
        "def solution(s):\n",
        "    a = ''\n",
        "    b = []\n",
        "\n",
        "    count = 0\n",
        "    if len(s) % 2 == 0:\n",
        "      for i,x in enumerate(s):\n",
        "          if len(a) % 2 != 0 or i == 0:\n",
        "              a += x\n",
        "              print(a)\n",
        "          elif len(a) % 2 == 0:\n",
        "              b.append(a)\n",
        "              a = ''\n",
        "\n",
        "    else:\n",
        "      for i,x in enumerate(s):\n",
        "          if count % 2 != 0 or i == 0:\n",
        "              a += x\n",
        "              count += 1\n",
        "          else:\n",
        "              b.append(a)\n",
        "              b.append(x+'_')\n",
        "\n",
        "\n",
        "    return b\n",
        "print(solution('asdf'))"
      ],
      "metadata": {
        "colab": {
          "base_uri": "https://localhost:8080/"
        },
        "id": "AmoOdi-UtlA9",
        "outputId": "5235591f-e8f1-4845-dff0-2e8ea9d5e67e"
      },
      "execution_count": null,
      "outputs": [
        {
          "output_type": "stream",
          "name": "stdout",
          "text": [
            "a\n",
            "as\n",
            "['as', '']\n"
          ]
        }
      ]
    },
    {
      "cell_type": "code",
      "source": [
        "def solution(s):\n",
        "    for x in s:\n",
        "\n",
        "\n",
        "\n",
        "print(solution('asdf'))"
      ],
      "metadata": {
        "colab": {
          "base_uri": "https://localhost:8080/",
          "height": 280
        },
        "id": "HuOWmNJV3KVq",
        "outputId": "09be2bc3-ea45-4432-a3d7-fe61f3b9af35"
      },
      "execution_count": null,
      "outputs": [
        {
          "output_type": "error",
          "ename": "TypeError",
          "evalue": "must be str or None, not int",
          "traceback": [
            "\u001b[0;31m---------------------------------------------------------------------------\u001b[0m",
            "\u001b[0;31mTypeError\u001b[0m                                 Traceback (most recent call last)",
            "\u001b[0;32m<ipython-input-70-b1ab032bce53>\u001b[0m in \u001b[0;36m<cell line: 4>\u001b[0;34m()\u001b[0m\n\u001b[1;32m      2\u001b[0m     \u001b[0ms\u001b[0m\u001b[0;34m.\u001b[0m\u001b[0msplit\u001b[0m\u001b[0;34m(\u001b[0m\u001b[0;36m2\u001b[0m\u001b[0;34m)\u001b[0m\u001b[0;34m\u001b[0m\u001b[0;34m\u001b[0m\u001b[0m\n\u001b[1;32m      3\u001b[0m \u001b[0;34m\u001b[0m\u001b[0m\n\u001b[0;32m----> 4\u001b[0;31m \u001b[0mprint\u001b[0m\u001b[0;34m(\u001b[0m\u001b[0msolution\u001b[0m\u001b[0;34m(\u001b[0m\u001b[0;34m'asdf'\u001b[0m\u001b[0;34m)\u001b[0m\u001b[0;34m)\u001b[0m\u001b[0;34m\u001b[0m\u001b[0;34m\u001b[0m\u001b[0m\n\u001b[0m",
            "\u001b[0;32m<ipython-input-70-b1ab032bce53>\u001b[0m in \u001b[0;36msolution\u001b[0;34m(s)\u001b[0m\n\u001b[1;32m      1\u001b[0m \u001b[0;32mdef\u001b[0m \u001b[0msolution\u001b[0m\u001b[0;34m(\u001b[0m\u001b[0ms\u001b[0m\u001b[0;34m)\u001b[0m\u001b[0;34m:\u001b[0m\u001b[0;34m\u001b[0m\u001b[0;34m\u001b[0m\u001b[0m\n\u001b[0;32m----> 2\u001b[0;31m     \u001b[0ms\u001b[0m\u001b[0;34m.\u001b[0m\u001b[0msplit\u001b[0m\u001b[0;34m(\u001b[0m\u001b[0;36m2\u001b[0m\u001b[0;34m)\u001b[0m\u001b[0;34m\u001b[0m\u001b[0;34m\u001b[0m\u001b[0m\n\u001b[0m\u001b[1;32m      3\u001b[0m \u001b[0;34m\u001b[0m\u001b[0m\n\u001b[1;32m      4\u001b[0m \u001b[0mprint\u001b[0m\u001b[0;34m(\u001b[0m\u001b[0msolution\u001b[0m\u001b[0;34m(\u001b[0m\u001b[0;34m'asdf'\u001b[0m\u001b[0;34m)\u001b[0m\u001b[0;34m)\u001b[0m\u001b[0;34m\u001b[0m\u001b[0;34m\u001b[0m\u001b[0m\n",
            "\u001b[0;31mTypeError\u001b[0m: must be str or None, not int"
          ]
        }
      ]
    },
    {
      "cell_type": "code",
      "source": [
        "def unique_in_order(sequence):\n",
        "    a = []\n",
        "    for c in sequence:\n",
        "      a.append(c)\n",
        "\n",
        "    print((a))\n",
        "print(unique_in_order('ABBCcAD') )"
      ],
      "metadata": {
        "colab": {
          "base_uri": "https://localhost:8080/"
        },
        "id": "7QOkZuvf9S3K",
        "outputId": "cc05e5da-560a-4ef2-b2a2-2465a73b547e"
      },
      "execution_count": null,
      "outputs": [
        {
          "output_type": "stream",
          "name": "stdout",
          "text": [
            "['A', 'B', 'B', 'C', 'c', 'A', 'D']\n",
            "None\n"
          ]
        }
      ]
    },
    {
      "cell_type": "code",
      "source": [
        "from typing import List\n",
        "class Solution:\n",
        "    def pivotIndex(self, nums: List[int]) -> int:\n",
        "        add_left = []\n",
        "        for i in range(len(nums)):\n",
        "            add_left.append(nums[i])\n",
        "            if sum(nums[i:]) != 0:\n",
        "                if add_left == sum(nums[i:]):\n",
        "                    return i\n",
        "                else:\n",
        "                    return -1\n",
        "            elif sum(nums[i:]) == 0:\n",
        "                if i == 0:\n",
        "                    return 0\n",
        "\n",
        "instance = Solution()\n",
        "print(instance.pivotIndex([[1,7,3,6,5,6]]))\n",
        ""
      ],
      "metadata": {
        "colab": {
          "base_uri": "https://localhost:8080/",
          "height": 324
        },
        "id": "z_XiJiSwhLPv",
        "outputId": "4343d429-fe60-4c2a-fa36-6994f5a3ea2a"
      },
      "execution_count": 1,
      "outputs": [
        {
          "output_type": "error",
          "ename": "TypeError",
          "evalue": "unsupported operand type(s) for +=: 'int' and 'list'",
          "traceback": [
            "\u001b[0;31m---------------------------------------------------------------------------\u001b[0m",
            "\u001b[0;31mTypeError\u001b[0m                                 Traceback (most recent call last)",
            "\u001b[0;32m<ipython-input-1-9a116b55546e>\u001b[0m in \u001b[0;36m<cell line: 17>\u001b[0;34m()\u001b[0m\n\u001b[1;32m     15\u001b[0m \u001b[0;34m\u001b[0m\u001b[0m\n\u001b[1;32m     16\u001b[0m \u001b[0minstance\u001b[0m \u001b[0;34m=\u001b[0m \u001b[0mSolution\u001b[0m\u001b[0;34m(\u001b[0m\u001b[0;34m)\u001b[0m\u001b[0;34m\u001b[0m\u001b[0;34m\u001b[0m\u001b[0m\n\u001b[0;32m---> 17\u001b[0;31m \u001b[0mprint\u001b[0m\u001b[0;34m(\u001b[0m\u001b[0minstance\u001b[0m\u001b[0;34m.\u001b[0m\u001b[0mpivotIndex\u001b[0m\u001b[0;34m(\u001b[0m\u001b[0;34m[\u001b[0m\u001b[0;34m[\u001b[0m\u001b[0;36m1\u001b[0m\u001b[0;34m,\u001b[0m\u001b[0;36m7\u001b[0m\u001b[0;34m,\u001b[0m\u001b[0;36m3\u001b[0m\u001b[0;34m,\u001b[0m\u001b[0;36m6\u001b[0m\u001b[0;34m,\u001b[0m\u001b[0;36m5\u001b[0m\u001b[0;34m,\u001b[0m\u001b[0;36m6\u001b[0m\u001b[0;34m]\u001b[0m\u001b[0;34m]\u001b[0m\u001b[0;34m)\u001b[0m\u001b[0;34m)\u001b[0m\u001b[0;34m\u001b[0m\u001b[0;34m\u001b[0m\u001b[0m\n\u001b[0m\u001b[1;32m     18\u001b[0m \u001b[0;34m\u001b[0m\u001b[0m\n",
            "\u001b[0;32m<ipython-input-1-9a116b55546e>\u001b[0m in \u001b[0;36mpivotIndex\u001b[0;34m(self, nums)\u001b[0m\n\u001b[1;32m      4\u001b[0m         \u001b[0madd_left\u001b[0m \u001b[0;34m=\u001b[0m \u001b[0;36m0\u001b[0m\u001b[0;34m\u001b[0m\u001b[0;34m\u001b[0m\u001b[0m\n\u001b[1;32m      5\u001b[0m         \u001b[0;32mfor\u001b[0m \u001b[0mi\u001b[0m \u001b[0;32min\u001b[0m \u001b[0mrange\u001b[0m\u001b[0;34m(\u001b[0m\u001b[0mlen\u001b[0m\u001b[0;34m(\u001b[0m\u001b[0mnums\u001b[0m\u001b[0;34m)\u001b[0m\u001b[0;34m)\u001b[0m\u001b[0;34m:\u001b[0m\u001b[0;34m\u001b[0m\u001b[0;34m\u001b[0m\u001b[0m\n\u001b[0;32m----> 6\u001b[0;31m             \u001b[0madd_left\u001b[0m \u001b[0;34m+=\u001b[0m  \u001b[0mnums\u001b[0m\u001b[0;34m[\u001b[0m\u001b[0mi\u001b[0m\u001b[0;34m]\u001b[0m\u001b[0;34m\u001b[0m\u001b[0;34m\u001b[0m\u001b[0m\n\u001b[0m\u001b[1;32m      7\u001b[0m             \u001b[0;32mif\u001b[0m \u001b[0msum\u001b[0m\u001b[0;34m(\u001b[0m\u001b[0mnums\u001b[0m\u001b[0;34m[\u001b[0m\u001b[0mi\u001b[0m\u001b[0;34m:\u001b[0m\u001b[0;34m]\u001b[0m\u001b[0;34m)\u001b[0m \u001b[0;34m!=\u001b[0m \u001b[0;36m0\u001b[0m\u001b[0;34m:\u001b[0m\u001b[0;34m\u001b[0m\u001b[0;34m\u001b[0m\u001b[0m\n\u001b[1;32m      8\u001b[0m                 \u001b[0;32mif\u001b[0m \u001b[0madd_left\u001b[0m \u001b[0;34m==\u001b[0m \u001b[0msum\u001b[0m\u001b[0;34m(\u001b[0m\u001b[0mnums\u001b[0m\u001b[0;34m[\u001b[0m\u001b[0mi\u001b[0m\u001b[0;34m:\u001b[0m\u001b[0;34m]\u001b[0m\u001b[0;34m)\u001b[0m\u001b[0;34m:\u001b[0m\u001b[0;34m\u001b[0m\u001b[0;34m\u001b[0m\u001b[0m\n",
            "\u001b[0;31mTypeError\u001b[0m: unsupported operand type(s) for +=: 'int' and 'list'"
          ]
        }
      ]
    },
    {
      "cell_type": "markdown",
      "source": [
        "check bookmarked"
      ],
      "metadata": {
        "id": "H4Vr3o-dJXK0"
      }
    }
  ]
}